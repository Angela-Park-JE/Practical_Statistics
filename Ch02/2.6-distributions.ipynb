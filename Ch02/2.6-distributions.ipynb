{
 "cells": [
  {
   "cell_type": "markdown",
   "metadata": {},
   "source": [
    "# CH2. Data and Sampling Distributions\n",
    "\n",
    "**데이터와 표본분포**\n",
    "\n",
    "2.1 임의표본추출(random sampling)과 표본편향(sample bias)\n",
    "\n",
    "2.2 선택편향(selection bias)\n",
    "\n",
    "2.3 통계학에서의 표본분포\n",
    "\n",
    "2.4 부트스트랩\n",
    "\n",
    "2.5 신뢰구간\n",
    "\n",
    "**2.6 정규분포**\n",
    "\n",
    "용어정리\n",
    "\n",
    "> 오차(error): 데이터 포인트와 예측값 혹은 평균 사이의 차이\n",
    "\n",
    "> 표준화(정규화)하다(standardize): 평균을 빼고 표준편차로 나누는 것\n",
    "\n",
    "> z-score: 개별 데이터 포인트를 정규화한 결과 값\n",
    "\n",
    "> 표준정규분포(standard normal distribution): 평균 = 0, 표준편차 = 1인 정규분포\n",
    "\n",
    "> QQ-plot: 표본분포가 특정 분포(예: 정규분포)에 얼마나 가까운지를 보여주는 그림\n",
    "\n",
    "##### _주의: 정상이라서 normal분포라고 부르는 것이 아니며, 실제로 전형적인 데이터 사이언프 프로젝트에서 쓰는 대부분의 변수들이나 실제 대부분의 raw data는 전반적으로 정규분포를 따르지 않는다.. 표본분포에서 대부분의 통계량이 정규분포를 따른다는 점에서 정규분포의 유용함이 드러날 뿐이다. 그렇긴하지만, 일반적으로 정규분포 가정은 경험적 확률분포나 부트스트랩 분포를 구할 수 없는 경우 사용되는 최후의 수단이다._\n",
    "\n",
    "이 교재에서는 정규화와 표준화를 혼용하여 쓰지만, 내가 배우기로는 표준화는 여기서 얘기하는 표준화가 맞으며 (분모가 표준편차), \n",
    "\n",
    "정규화는 각 변수들 사이의 값 스케일 차이를 줄이기 위해 (상대적 크기에 의한 영향을 줄이기 위하여) 0과 1사이의 값으로 만들어주는(분모가 $X_{max} - X_{min}$) 것으로 알고 있다.\n",
    "\n",
    "그 차이에 주의하며 공부를 진행한다."
   ]
  },
  {
   "cell_type": "code",
   "execution_count": 1,
   "metadata": {
    "execution": {
     "iopub.execute_input": "2021-09-02T14:39:49.931441Z",
     "iopub.status.busy": "2021-09-02T14:39:49.930827Z",
     "iopub.status.idle": "2021-09-02T14:39:51.513586Z",
     "shell.execute_reply": "2021-09-02T14:39:51.513066Z"
    }
   },
   "outputs": [],
   "source": [
    "# 라이브러리 불러오기\n",
    "\n",
    "%matplotlib inline\n",
    "\n",
    "from pathlib import Path\n",
    "\n",
    "import pandas as pd\n",
    "import numpy as np\n",
    "from scipy.stats import trim_mean\n",
    "from scipy import stats\n",
    "from sklearn.utils import resample\n",
    "\n",
    "import seaborn as sns\n",
    "import matplotlib.pylab as plt"
   ]
  },
  {
   "cell_type": "markdown",
   "metadata": {},
   "source": [
    "## 데이터 import"
   ]
  },
  {
   "cell_type": "code",
   "execution_count": 2,
   "metadata": {
    "execution": {
     "iopub.execute_input": "2021-09-02T14:39:51.519386Z",
     "iopub.status.busy": "2021-09-02T14:39:51.518303Z",
     "iopub.status.idle": "2021-09-02T14:39:52.126560Z",
     "shell.execute_reply": "2021-09-02T14:39:52.126882Z"
    }
   },
   "outputs": [],
   "source": [
    "try:\n",
    "    import common\n",
    "    DATA = common.dataDirectory()\n",
    "except ImportError:\n",
    "    DATA = Path().resolve() / 'data'"
   ]
  },
  {
   "cell_type": "code",
   "execution_count": 3,
   "metadata": {
    "execution": {
     "iopub.execute_input": "2021-09-02T14:39:52.131370Z",
     "iopub.status.busy": "2021-09-02T14:39:52.130900Z",
     "iopub.status.idle": "2021-09-02T14:39:52.133711Z",
     "shell.execute_reply": "2021-09-02T14:39:52.133326Z"
    }
   },
   "outputs": [],
   "source": [
    "LOANS_INCOME_CSV = DATA / 'loans_income.csv'\n",
    "SP500_DATA_CSV = DATA / 'sp500_data.csv.gz'"
   ]
  },
  {
   "cell_type": "markdown",
   "metadata": {},
   "source": [
    "# 정규분포\n",
    "---\n",
    "2.6 Standard Distribution\n",
    "\n",
    "## 표준 정규분포와 QQ plot\n",
    "\n",
    "표준정규분포는 x축의 단위가 평균의 표준편차로 표현되는 정규분포를 뜻한다. 데이터를 표준정규분포와 비교하려면 데이터를 표준화하기 위해 데이터에서 평균을 뺸 다음 표준편차로 나누면 된다.\n",
    "\n",
    "표준화하여 변환한 값을 z-score라고 하며, 정규분포를 z-distribution이라고도 한다.\n",
    "\n"
   ]
  },
  {
   "cell_type": "markdown",
   "metadata": {},
   "source": [
    "### 표준정규분포로부터 추출한 100개의 표본의 QQplot"
   ]
  },
  {
   "cell_type": "code",
   "execution_count": 4,
   "metadata": {
    "scrolled": true
   },
   "outputs": [
    {
     "data": {
      "text/plain": [
       "((array([-2.46203784, -2.12570747, -1.93122778, -1.79044653, -1.67819304,\n",
       "         -1.58381122, -1.50174123, -1.42869743, -1.36256869, -1.30191411,\n",
       "         -1.24570419, -1.19317644, -1.14374949, -1.09696931, -1.05247413,\n",
       "         -1.00997067, -0.96921765, -0.93001393, -0.89218993, -0.85560121,\n",
       "         -0.82012357, -0.78564937, -0.75208458, -0.71934648, -0.68736185,\n",
       "         -0.65606548, -0.62539893, -0.59530962, -0.56574992, -0.53667655,\n",
       "         -0.50804994, -0.47983378, -0.45199463, -0.42450149, -0.39732558,\n",
       "         -0.37044003, -0.34381966, -0.31744076, -0.29128096, -0.26531902,\n",
       "         -0.23953472, -0.21390872, -0.18842244, -0.16305799, -0.13779803,\n",
       "         -0.1126257 , -0.08752455, -0.06247843, -0.03747145, -0.01248789,\n",
       "          0.01248789,  0.03747145,  0.06247843,  0.08752455,  0.1126257 ,\n",
       "          0.13779803,  0.16305799,  0.18842244,  0.21390872,  0.23953472,\n",
       "          0.26531902,  0.29128096,  0.31744076,  0.34381966,  0.37044003,\n",
       "          0.39732558,  0.42450149,  0.45199463,  0.47983378,  0.50804994,\n",
       "          0.53667655,  0.56574992,  0.59530962,  0.62539893,  0.65606548,\n",
       "          0.68736185,  0.71934648,  0.75208458,  0.78564937,  0.82012357,\n",
       "          0.85560121,  0.89218993,  0.93001393,  0.96921765,  1.00997067,\n",
       "          1.05247413,  1.09696931,  1.14374949,  1.19317644,  1.24570419,\n",
       "          1.30191411,  1.36256869,  1.42869743,  1.50174123,  1.58381122,\n",
       "          1.67819304,  1.79044653,  1.93122778,  2.12570747,  2.46203784]),\n",
       "  array([-2.87283012, -2.68669613, -2.59489363, -2.18222784, -2.17257965,\n",
       "         -2.10644686, -1.99940225, -1.85365942, -1.582561  , -1.53218013,\n",
       "         -1.41936017, -1.26780102, -1.25365162, -1.24324145, -1.21321558,\n",
       "         -1.19762614, -1.14023379, -1.10766392, -1.04761356, -1.03424169,\n",
       "         -1.02656116, -1.00765263, -0.97834837, -0.89314788, -0.87330174,\n",
       "         -0.81596103, -0.80380277, -0.73731751, -0.73366935, -0.70114684,\n",
       "         -0.67995022, -0.6778319 , -0.6049727 , -0.5334052 , -0.44840165,\n",
       "         -0.36926387, -0.31140679, -0.30232944, -0.28320562, -0.26489424,\n",
       "         -0.25195989, -0.1953646 , -0.17341231, -0.14514301, -0.13183805,\n",
       "         -0.12815817, -0.12269155, -0.09352418, -0.06640598, -0.05599962,\n",
       "         -0.03226206, -0.02880515, -0.02649304, -0.00877541,  0.01314915,\n",
       "          0.11401576,  0.11864502,  0.15668514,  0.15989318,  0.1683359 ,\n",
       "          0.1685784 ,  0.20527033,  0.23532785,  0.28222893,  0.31244344,\n",
       "          0.33656428,  0.34513412,  0.36486475,  0.3831519 ,  0.3930685 ,\n",
       "          0.4070459 ,  0.45524341,  0.53289586,  0.58354982,  0.67531031,\n",
       "          0.68610838,  0.72956816,  0.73181461,  0.77056997,  0.80579524,\n",
       "          0.8076072 ,  0.83932931,  0.85589642,  0.91450272,  0.94265714,\n",
       "          1.11801002,  1.19852286,  1.2116336 ,  1.22955247,  1.25510915,\n",
       "          1.3240771 ,  1.41793346,  1.45202046,  1.59056756,  1.68174088,\n",
       "          1.68606865,  1.89460141,  1.90855666,  2.45463211,  3.33374375])),\n",
       " (1.1434347655394141, -0.08763508600537745, 0.9953553053644921))"
      ]
     },
     "execution_count": 4,
     "metadata": {},
     "output_type": "execute_result"
    },
    {
     "data": {
      "image/png": "[encoded data removed]",
      "text/plain": [
       "<Figure size 288x288 with 1 Axes>"
      ]
     },
     "metadata": {
      "needs_background": "light"
     },
     "output_type": "display_data"
    }
   ],
   "source": [
    "fig, ax = plt.subplots(figsize = (4, 4))    # 그래프 사이즈\n",
    "norm_sample = stats.norm.rvs(size=100)      # 표준정규분포의 랜덤 밸류 샘플 생성\n",
    "stats.probplot(norm_sample, plot = ax)      # qq-plot그리기"
   ]
  },
  {
   "cell_type": "code",
   "execution_count": 6,
   "metadata": {},
   "outputs": [
    {
     "data": {
      "image/png": "[encoded data removed]",
      "text/plain": [
       "<Figure size 288x288 with 1 Axes>"
      ]
     },
     "metadata": {
      "needs_background": "light"
     },
     "output_type": "display_data"
    }
   ],
   "source": [
    "# 값표시 없이 그리기\n",
    "fig, ax = plt.subplots(figsize = (4, 4))    # 그래프 사이즈\n",
    "norm_sample = stats.norm.rvs(size=100)      # 표준정규분포의 랜덤 밸류 샘플 생성\n",
    "stats.probplot(norm_sample, plot = ax)      # qq-plot그리기\n",
    "\n",
    "plt.tight_layout()\n",
    "plt.show()"
   ]
  },
  {
   "cell_type": "markdown",
   "metadata": {},
   "source": [
    "**z-score를 오름차순으로 정렬하고, 각 값의 z-score를 y축에 표시한다. x축은 정규분포에서의 해당 분위수를 나타낸다. 데이터가 표준화되었기 때문에 단위는 평균으로부터 떨어진 데이터의 표준편차 수에 해당하게 된다.**\n",
    "\n",
    "**점들이 대각선에 가까이 놓일수록 표본분포가 정규분포에 가까운 것으로 간주할 수 있다.**\n",
    "\n",
    "정리\n",
    "\n",
    "> z-score로 만드는 것은 비교를 목적으로 표준정규분포와 같은 척도로 만드는 것 뿐이다.\n",
    "\n",
    "> 원시 데이터 자체는 대개 정규분포가 아니지만, 표본들의 평균과 합계, 그리고 오차는 정규분포를 따르는 때가 많다."
   ]
  },
  {
   "cell_type": "markdown",
   "metadata": {},
   "source": [
    "# 긴꼬리분포\n",
    "---\n",
    "2.7 Long-Tailed Distributions\n",
    "\n",
    "용어\n",
    "\n",
    "> tail: 적은 수의 극단값이 주로 존재하는, 도수분포의 길고 좁은 부분\n",
    "\n",
    "> skewness(왜도): 분포의 한쪽 꼬리가 반대쪽 다른 꼬리보다 긴 정도\n",
    "\n",
    "오차나 표본통계량의 분포를 볼 때 정규분포는 적절하고 유용하지만, 정규분포가 일반적으로 원시 데이터 분포의 특징을 나타내지는 않는다. \n",
    "\n",
    "분포의 꼬리는 양 극한 값에 해당하는데, 실무에서는 긴 꼬리를 중요시여긴다. (나심 탈레브의 black swan theory)\n"
   ]
  },
  {
   "cell_type": "markdown",
   "metadata": {},
   "source": [
    "## 주가수익률로 보는 긴 꼬리\n",
    "\n",
    "넷플릭스의 일일 주식 수익률에 대한 QQplot이다. _어라 넷플릭스 요즘 심각한데_\n",
    "\n",
    "데이터셋은 sp500 이용"
   ]
  },
  {
   "cell_type": "code",
   "execution_count": 8,
   "metadata": {},
   "outputs": [],
   "source": [
    "# data reading\n",
    "\n",
    "sp500_px = pd.read_csv(SP500_DATA_CSV)\n",
    "nflx = sp500_px.NFLX"
   ]
  },
  {
   "cell_type": "code",
   "execution_count": 9,
   "metadata": {
    "scrolled": true
   },
   "outputs": [
    {
     "data": {
      "text/plain": [
       "((array([-3.33278964, -3.07756454, -2.93575124, ...,  2.93575124,\n",
       "          3.07756454,  3.33278964]),\n",
       "  array([-6.60529819, -6.09667121, -5.40220961, ...,  5.12547859,\n",
       "          5.87072271,  6.03787   ])),\n",
       " (1.4823778663727092, 0.0015561067366313861, 0.9941828221936319))"
      ]
     },
     "execution_count": 9,
     "metadata": {},
     "output_type": "execute_result"
    },
    {
     "data": {
      "image/png": "[encoded data removed]",
      "text/plain": [
       "<Figure size 288x288 with 1 Axes>"
      ]
     },
     "metadata": {
      "needs_background": "light"
     },
     "output_type": "display_data"
    }
   ],
   "source": [
    "nflx = sp500_px.NFLX\n",
    "nflx = np.diff(np.log(nflx[nflx >0]))  # 다음값과의 차이로 값을 넣는다\n",
    "\n",
    "# 그래프 그리기\n",
    "fig, ax = plt.subplots(figsize=(4, 4))\n",
    "stats.probplot(nflx, plot=ax)"
   ]
  },
  {
   "cell_type": "markdown",
   "metadata": {},
   "source": [
    "낮은 값들의 점은 대각선보다 훨씬 낮고, 높은 값은 선보다 훨씬 위에 위치한다. **이는 데이터가 정규분포를 따르지 않는다는 것을 의미한다.**\n",
    "\n",
    "또한 이는 데이터가 정규분포를 따른다고 할 떄, 예상보다 훨씬 더 많은 극단값을 관찰할 가능성이 있음을 의미한다.\n",
    "\n",
    "평균에서 표준편차 이내에 있는 데이터의 점들은 선에 가까이 있다."
   ]
  },
  {
   "cell_type": "code",
   "execution_count": null,
   "metadata": {},
   "outputs": [],
   "source": []
  },
  {
   "cell_type": "code",
   "execution_count": null,
   "metadata": {},
   "outputs": [],
   "source": []
  }
 ],
 "metadata": {
  "kernelspec": {
   "display_name": "Python 3 (ipykernel)",
   "language": "python",
   "name": "python3"
  },
  "language_info": {
   "codemirror_mode": {
    "name": "ipython",
    "version": 3
   },
   "file_extension": ".py",
   "mimetype": "text/x-python",
   "name": "python",
   "nbconvert_exporter": "python",
   "pygments_lexer": "ipython3",
   "version": "3.8.5"
  },
  "toc": {
   "base_numbering": 1,
   "nav_menu": {},
   "number_sections": true,
   "sideBar": true,
   "skip_h1_title": false,
   "title_cell": "Table of Contents",
   "title_sidebar": "Contents",
   "toc_cell": false,
   "toc_position": {},
   "toc_section_display": true,
   "toc_window_display": false
  }
 },
 "nbformat": 4,
 "nbformat_minor": 2
}
