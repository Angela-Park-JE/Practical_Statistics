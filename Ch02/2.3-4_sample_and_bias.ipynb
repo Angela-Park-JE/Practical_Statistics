{
 "cells": [
  {
   "cell_type": "markdown",
   "metadata": {},
   "source": [
    "# CH2. Data and Sampling Distributions\n",
    "\n",
    "**데이터와 표본분포**\n",
    "\n",
    "**2.1 임의표본추출(random sampling)과 표본편향(sample bias)**\n",
    "\n",
    "**2.2 선택편향(selection bias)**\n",
    "\n",
    "**2.3 통계학에서의 표본분포**"
   ]
  },
  {
   "cell_type": "markdown",
   "metadata": {},
   "source": [
    "통계에서 표본분포라는 용어는 하나의 동일한 모집단에서 얻은 여러 샘플에 대한 표본 통계량으 분포를 나타낸다.\n",
    "\n",
    "**용어정리**\n",
    "\n",
    "> 표본통계량(sample statistic): 더 큰 모집단에서 추출된 표본 데이터들로 부터 얻은 측정 지표\n",
    "\n",
    "> 데이터 분포(data distribution): 어떤 데이터 집합에서의 각 개별 값의 분포\n",
    "\n",
    "> 표본분포(sampling distribution): 여러 표본들에서, 혹은 재표본들로 부터 얻은 표본통계량의 도수분포\n",
    "\n",
    "> 중심극한정리(contral limit theorem): 표본크기가 커질수록 표본분포가 정규분포를 따르는 경향\n",
    "\n",
    "> 표준오차(standard eroor): 여러표본들로부터 얻은 표본통계량의 변량(개별 데이터 값들의 변량을 뜻하는 표준편차와 혼동하지 말것)"
   ]
  },
  {
   "cell_type": "code",
   "execution_count": 1,
   "metadata": {
    "execution": {
     "iopub.execute_input": "2021-09-02T14:39:49.931441Z",
     "iopub.status.busy": "2021-09-02T14:39:49.930827Z",
     "iopub.status.idle": "2021-09-02T14:39:51.513586Z",
     "shell.execute_reply": "2021-09-02T14:39:51.513066Z"
    }
   },
   "outputs": [],
   "source": [
    "# 라이브러리 불러오기\n",
    "\n",
    "%matplotlib inline\n",
    "\n",
    "from pathlib import Path\n",
    "\n",
    "import pandas as pd\n",
    "import numpy as np\n",
    "from scipy.stats import trim_mean\n",
    "from scipy import stats\n",
    "from sklearn.utils import resample\n",
    "\n",
    "import seaborn as sns\n",
    "import matplotlib.pylab as plt"
   ]
  },
  {
   "cell_type": "markdown",
   "metadata": {},
   "source": [
    "## 데이터 import"
   ]
  },
  {
   "cell_type": "code",
   "execution_count": 2,
   "metadata": {
    "execution": {
     "iopub.execute_input": "2021-09-02T14:39:51.519386Z",
     "iopub.status.busy": "2021-09-02T14:39:51.518303Z",
     "iopub.status.idle": "2021-09-02T14:39:52.126560Z",
     "shell.execute_reply": "2021-09-02T14:39:52.126882Z"
    }
   },
   "outputs": [],
   "source": [
    "try:\n",
    "    import common\n",
    "    DATA = common.dataDirectory()\n",
    "except ImportError:\n",
    "    DATA = Path().resolve() / 'data'"
   ]
  },
  {
   "cell_type": "code",
   "execution_count": 3,
   "metadata": {
    "execution": {
     "iopub.execute_input": "2021-09-02T14:39:52.131370Z",
     "iopub.status.busy": "2021-09-02T14:39:52.130900Z",
     "iopub.status.idle": "2021-09-02T14:39:52.133711Z",
     "shell.execute_reply": "2021-09-02T14:39:52.133326Z"
    }
   },
   "outputs": [],
   "source": [
    "LOANS_INCOME_CSV = DATA / 'loans_income.csv'\n",
    "SP500_DATA_CSV = DATA / 'sp500_data.csv.gz'"
   ]
  },
  {
   "cell_type": "markdown",
   "metadata": {},
   "source": [
    "# 데이터 표본의 개수에 따른 표본분포\n",
    "---\n",
    "2.2 Data and Sampling Distributions\n"
   ]
  },
  {
   "cell_type": "markdown",
   "metadata": {},
   "source": [
    "## 랜덤 데이터 생성후 분포보기"
   ]
  },
  {
   "cell_type": "code",
   "execution_count": 4,
   "metadata": {},
   "outputs": [],
   "source": [
    "# random data 생성후 distribution 보기\n",
    "np.random.seed(seed = 1)\n",
    "\n",
    "# -3부터 3까지의 300개의 랜덤 데이터\n",
    "x = np.linspace(-3, 3, 300)"
   ]
  },
  {
   "cell_type": "code",
   "execution_count": 5,
   "metadata": {},
   "outputs": [
    {
     "data": {
      "text/plain": [
       "(300,)"
      ]
     },
     "execution_count": 5,
     "metadata": {},
     "output_type": "execute_result"
    }
   ],
   "source": [
    "# jupyternotebook에서 스압이 발생하므로 shape만 보겠습니다.\n",
    "\n",
    "x.shape"
   ]
  },
  {
   "cell_type": "code",
   "execution_count": 6,
   "metadata": {},
   "outputs": [],
   "source": [
    "# 정규분포를 따르는 랜덤한 샘플을 1000개 뽑습니다.\n",
    "# option size는 Defining number of random variates (default is 1)\n",
    "xsample = stats.norm.rvs(size = 1000, random_state = 1)"
   ]
  },
  {
   "cell_type": "code",
   "execution_count": 7,
   "metadata": {},
   "outputs": [
    {
     "data": {
      "text/plain": [
       "array([ 1.62434536, -0.61175641])"
      ]
     },
     "execution_count": 7,
     "metadata": {},
     "output_type": "execute_result"
    }
   ],
   "source": [
    "whatistthat = stats.norm.rvs(size = 2)\n",
    "whatistthat"
   ]
  },
  {
   "cell_type": "code",
   "execution_count": 8,
   "metadata": {},
   "outputs": [
    {
     "data": {
      "text/plain": [
       "(1000,)"
      ]
     },
     "execution_count": 8,
     "metadata": {},
     "output_type": "execute_result"
    }
   ],
   "source": [
    "xsample.shape"
   ]
  },
  {
   "cell_type": "code",
   "execution_count": 9,
   "metadata": {},
   "outputs": [
    {
     "data": {
      "image/png": "[encoded data removed]",
      "text/plain": [
       "<Figure size 360x144 with 2 Axes>"
      ]
     },
     "metadata": {
      "needs_background": "light"
     },
     "output_type": "display_data"
    }
   ],
   "source": [
    "# 그래프를 그릴 준비. 두 그래프를, 각 열로, 한 행에 그릴 것임다.\n",
    "fig, axes = plt.subplots(ncols = 2, figsize = (5, 2))\n",
    "\n",
    "# 왼쪽 칸, \n",
    "# x와 x의 확률밀도함수pdf(x)의 값을 y값으로 하는 그림에 x는 -3부터 3까지 그린다.\n",
    "ax = axes[0]\n",
    "ax.fill(x, stats.norm.pdf(x))\n",
    "ax.set_axis_off()\n",
    "ax.set_xlim(-3, 3)\n",
    "\n",
    "# 오른쪽 칸,\n",
    "# 정규분포를 따르는 xsample의 값들을 bins = 30 즉 30개씩 나눈 histogram을 그리며, x는 -3부터 3까지 그린다.\n",
    "ax = axes[1]\n",
    "ax.hist(xsample, bins = 30)\n",
    "ax.set_axis_off()\n",
    "ax.set_xlim(-3, 3)\n",
    "ax.set_position\n",
    "\n",
    "plt.show()"
   ]
  },
  {
   "cell_type": "markdown",
   "metadata": {},
   "source": [
    "### 정리 및 원본 코드\n",
    "\n",
    "이로 알 수 있는 것은 값들의 개수가 충분히 크면 정규분포를 따르게 된다는 그런 말."
   ]
  },
  {
   "cell_type": "code",
   "execution_count": null,
   "metadata": {},
   "outputs": [],
   "source": [
    "# original whole code\n",
    "\n",
    "# np.random.seed(seed=1)\n",
    "# x = np.linspace(-3, 3, 300)\n",
    "# xsample = stats.norm.rvs(size=1000)\n",
    "\n",
    "# fig, axes = plt.subplots(ncols=2, figsize=(5, 1.5))\n",
    "\n",
    "# ax = axes[0]\n",
    "# ax.fill(x, stats.norm.pdf(x))\n",
    "# ax.set_axis_off()\n",
    "# ax.set_xlim(-3, 3)\n",
    "\n",
    "# ax = axes[1]\n",
    "# ax.hist(xsample, bins=30)\n",
    "# ax.set_axis_off()\n",
    "# ax.set_xlim(-3, 3)\n",
    "# ax.set_position\n",
    "# # plt.subplots_adjust(left=0, bottom=0, right=1, top=1, wspace=0, hspace=0)\n",
    "\n",
    "# plt.show()"
   ]
  },
  {
   "cell_type": "markdown",
   "metadata": {},
   "source": [
    "# 통계에서의 표본분포\n",
    "---\n",
    "2.3 Sampling Distribution of a Statistic\n",
    "\n",
    "### LOANS_INCOME_CSV: 랜딩클럽에 대출을 신청한 사람들의 연간 소득 정보\n",
    "\n",
    "이를 이용하여 샘플의 개수를 n개씩 뽑았을 때의 평균의 분포를 보도록 해본다."
   ]
  },
  {
   "cell_type": "code",
   "execution_count": 10,
   "metadata": {},
   "outputs": [
    {
     "name": "stderr",
     "output_type": "stream",
     "text": [
      "/var/folders/qw/j72d9nwn5dq0vxtqtw2bbtnh0000gp/T/ipykernel_939/86367278.py:6: FutureWarning: The squeeze argument has been deprecated and will be removed in a future version. Append .squeeze(\"columns\") to the call to squeeze.\n",
      "\n",
      "\n",
      "  loans_income = pd.read_csv(LOANS_INCOME_CSV, squeeze = True)\n"
     ]
    }
   ],
   "source": [
    "# data reading\n",
    "# option 'squeeze' : squeeze : bool, default False\n",
    "# If the parsed data only contains one column then return a Series.\n",
    "# 데이터 프레임이 아니라 시리즈로 바로 불러오는 용도인 것으로 보인다.\n",
    "\n",
    "loans_income = pd.read_csv(LOANS_INCOME_CSV, squeeze = True)"
   ]
  },
  {
   "cell_type": "markdown",
   "metadata": {},
   "source": [
    "없애지 말아주세요... "
   ]
  },
  {
   "cell_type": "code",
   "execution_count": 11,
   "metadata": {},
   "outputs": [
    {
     "data": {
      "text/plain": [
       "0         67000\n",
       "1         52000\n",
       "2        100000\n",
       "3         78762\n",
       "4         37041\n",
       "          ...  \n",
       "49995     40000\n",
       "49996     54000\n",
       "49997     50000\n",
       "49998     82000\n",
       "49999     70000\n",
       "Name: x, Length: 50000, dtype: int64"
      ]
     },
     "execution_count": 11,
     "metadata": {},
     "output_type": "execute_result"
    }
   ],
   "source": [
    "loans_income"
   ]
  },
  {
   "cell_type": "markdown",
   "metadata": {},
   "source": [
    "### numbers and samples mean numbers\n",
    "\n",
    "샘플을 뽑는 개수에 따라 몇개 데이터 셋을 만들어본다."
   ]
  },
  {
   "cell_type": "code",
   "execution_count": 12,
   "metadata": {},
   "outputs": [],
   "source": [
    "# 1000 개를 바로 뽑았을 떄\n",
    "sample_data = pd.DataFrame({\n",
    "    'income' : loans_income.sample(1000),\n",
    "    'type' : 'Data',})\n",
    "\n",
    "# 5개 뽑았을 때의 평균을 1000번 냈을 때\n",
    "sample_mean_05 = pd.DataFrame({\n",
    "    'income' : [loans_income.sample(5).mean() for _ in range(1000)],\n",
    "    'type' : 'Mean of n = 5',})\n",
    "\n",
    "# 20개 뽑았을 떄의 평균을 1000번 냈을 때\n",
    "sample_mean_20 = pd.DataFrame({\n",
    "    'income' : [loans_income.sample(20).mean() for _ in range(1000)],\n",
    "    'type' : 'Mean of n = 20',})"
   ]
  },
  {
   "cell_type": "code",
   "execution_count": 13,
   "metadata": {},
   "outputs": [
    {
     "name": "stdout",
     "output_type": "stream",
     "text": [
      "<class 'pandas.core.frame.DataFrame'>\n",
      "Int64Index: 3000 entries, 32525 to 999\n",
      "Data columns (total 2 columns):\n",
      " #   Column  Non-Null Count  Dtype  \n",
      "---  ------  --------------  -----  \n",
      " 0   income  3000 non-null   float64\n",
      " 1   type    3000 non-null   object \n",
      "dtypes: float64(1), object(1)\n",
      "memory usage: 70.3+ KB\n",
      "None\n"
     ]
    }
   ],
   "source": [
    "# 결과를 한 데이터프레임으로 합쳐줍니다.\n",
    "\n",
    "results = pd.concat([sample_data, sample_mean_05, sample_mean_20])\n",
    "print(results.info())"
   ]
  },
  {
   "cell_type": "code",
   "execution_count": 14,
   "metadata": {},
   "outputs": [
    {
     "name": "stdout",
     "output_type": "stream",
     "text": [
      "         income  type\n",
      "32525  140000.0  Data\n",
      "38271  130405.0  Data\n",
      "8078    70000.0  Data\n",
      "33104  110000.0  Data\n",
      "29128   95000.0  Data\n"
     ]
    }
   ],
   "source": [
    "print(results.head())\n",
    "\n",
    "# 당연하겠지만 책에서 하는 값과는 다르게 나옵니다. (물론 실행할 때마다 다르게)"
   ]
  },
  {
   "cell_type": "markdown",
   "metadata": {},
   "source": [
    "### graph \n",
    "\n",
    "원본 데이터에서 뽑은 데이터와, 데이터를 여러번 뽑으며 낸 평균들의 모습으로든 소득 구간에 따른 대출신청자수를 본다."
   ]
  },
  {
   "cell_type": "code",
   "execution_count": 15,
   "metadata": {},
   "outputs": [
    {
     "data": {
      "image/png": "[encoded data removed]",
      "text/plain": [
       "<Figure size 288x432 with 3 Axes>"
      ]
     },
     "metadata": {
      "needs_background": "light"
     },
     "output_type": "display_data"
    }
   ],
   "source": [
    "# results 데이터로, columns은 'type' 이 들어가며\n",
    "# 세로로 3개로 그릴 것이기 때문에 열 개수 하나의 그리드 만든다\n",
    "g = sns.FacetGrid(results, col = 'type', col_wrap = 1, \n",
    "                  height = 2, aspect = 2)\n",
    "\n",
    "# 그리드 안에 hist를 그려 넣는데\n",
    "# 원래 데이터의 값 스케일에 맞는 x range 를 정해주고,\n",
    "# 40개씩 잘라서 넣는다. concat 후 정렬되어있지 않기 때문에 \n",
    "# 각각 25개의 막대가 그려지고 다음 데이터는 다음 그림으로 넘어가게 될 것이다.\n",
    "g.map(plt.hist, 'income', range = [0, 200000], bins = 40)\n",
    "\n",
    "# 각label. col_name에는 type 즉 우리가 이름지어준 것이 들어갈 것이다.\n",
    "g.set_axis_labels('Income', 'Count')\n",
    "g.set_titles('{col_name}')\n",
    "\n",
    "plt.tight_layout()\n",
    "plt.show()"
   ]
  },
  {
   "cell_type": "markdown",
   "metadata": {},
   "source": [
    "### 정리 및 궁금한 점\n",
    "\n",
    "> 평균과 같은 표본통계량의 분포는 데이터 자체의 분포보다 규칙적이고 종 모양일 가능성이 높다. 통계의 기반이 되는 표본이 클수록, 그럴 가능성이 높은 것이 사실이다. 또한 표본이 클수록 표본통계량의 분포가 좁아진다.\n",
    "\n",
    "> 이 결과로, 개별 데이터로의 히스토그램은 넓게 분산되어있고, 한쪽으로 기울어져있다. 그러나 5와 20개씩 뽑아평균을 내어 1000개의 데이터 포인트를 만든 것은 갈수록 좁고 종모양이 된다. \n",
    "\n",
    "그렇다면 궁금해진 것인데, 평균의 평균을 낸 것들은 원래의 평균과 얼마나 차이가 나지?\n",
    "\n",
    "\n",
    "### how much are their mean...?\n"
   ]
  },
  {
   "cell_type": "code",
   "execution_count": 16,
   "metadata": {},
   "outputs": [
    {
     "data": {
      "text/plain": [
       "array(['Data', 'Mean of n = 5', 'Mean of n = 20'], dtype=object)"
      ]
     },
     "execution_count": 16,
     "metadata": {},
     "output_type": "execute_result"
    }
   ],
   "source": [
    "# 레코드를 구분지어주는 라벨인 type 값 확인\n",
    "\n",
    "results['type'].unique()"
   ]
  },
  {
   "cell_type": "code",
   "execution_count": 17,
   "metadata": {},
   "outputs": [
    {
     "name": "stdout",
     "output_type": "stream",
     "text": [
      "type Data\n",
      "69456.693\n",
      "type Mean of n = 5\n",
      "68633.5564\n",
      "type Mean of n = 20\n",
      "68788.7336\n"
     ]
    }
   ],
   "source": [
    "# 각각의 평균은 어땠을까?\n",
    "\n",
    "for i in ['Data', 'Mean of n = 5', 'Mean of n = 20']:\n",
    "    print('type' , i)\n",
    "    print(results[results['type'] == i]['income'].mean())"
   ]
  },
  {
   "cell_type": "markdown",
   "metadata": {},
   "source": [
    "많이 차이안난다. 그렇다면 원래의 데이터에서의 mean은 얼마일까?"
   ]
  },
  {
   "cell_type": "code",
   "execution_count": 18,
   "metadata": {},
   "outputs": [
    {
     "data": {
      "text/plain": [
       "68760.51844"
      ]
     },
     "execution_count": 18,
     "metadata": {},
     "output_type": "execute_result"
    }
   ],
   "source": [
    "loans_income.mean()"
   ]
  },
  {
   "cell_type": "markdown",
   "metadata": {},
   "source": [
    "랜덤하게 추출한 표본들의 샘플들의 평균들로 평균을 낸 것이 그저 무작위로 추출한 데이터 자체의 평균보다 모집단 loans_income의 평균에 더 가깝게 나타나는 것으로 나왔다.\n",
    "\n",
    "간단하게만 생각해도, 그만큼 여러 샘플들(더 많은 표본들)을 반영하는 것과 마찬가지이기 때문이라는 생각도 든다."
   ]
  },
  {
   "cell_type": "markdown",
   "metadata": {},
   "source": [
    "### 원본 코드"
   ]
  },
  {
   "cell_type": "code",
   "execution_count": null,
   "metadata": {},
   "outputs": [],
   "source": [
    "# origin whole code\n",
    "\n",
    "# loans_income = pd.read_csv(LOANS_INCOME_CSV, squeeze=True)\n",
    "\n",
    "# sample_data = pd.DataFrame({\n",
    "#     'income': loans_income.sample(1000),\n",
    "#     'type': 'Data',\n",
    "# })\n",
    "\n",
    "# sample_mean_05 = pd.DataFrame({\n",
    "#     'income': [loans_income.sample(5).mean() for _ in range(1000)],\n",
    "#     'type': 'Mean of 5',\n",
    "# })\n",
    "\n",
    "# sample_mean_20 = pd.DataFrame({\n",
    "#     'income': [loans_income.sample(20).mean() for _ in range(1000)],\n",
    "#     'type': 'Mean of 20',\n",
    "# })\n",
    "\n",
    "# results = pd.concat([sample_data, sample_mean_05, sample_mean_20])\n",
    "# print(results.head())"
   ]
  },
  {
   "cell_type": "code",
   "execution_count": null,
   "metadata": {},
   "outputs": [],
   "source": [
    "# origin whole code\n",
    "\n",
    "# g = sns.FacetGrid(results, col='type', col_wrap=1, \n",
    "#                   height=2, aspect=2)\n",
    "# g.map(plt.hist, 'income', range=[0, 200000], bins=40)\n",
    "# g.set_axis_labels('Income', 'Count')\n",
    "# g.set_titles('{col_name}')\n",
    "\n",
    "# plt.tight_layout()\n",
    "# plt.show()"
   ]
  },
  {
   "cell_type": "markdown",
   "metadata": {},
   "source": [
    "# 부트스트랩 !\n",
    "---\n",
    "2.4 The Bootstrap \n",
    "\n",
    "> 부트스트랩: 현재 있는 표본에서 추가적으로 표본을 복원추출하고 각 표본에 대한 통계량과 모델을 다시 계산하는 절차\n",
    "\n",
    "위에서 진행했던 값들을 토대로 부트스트랩 과정을 통해서 샘플링 과정에서 생길 수 있는 편향에 대해 알아보고자 한다.\n",
    "\n",
    "표본자체를 무식하게 반복 복제한다는 것이아니라, 각각의 표본을 뽑은 후 각 관측치를 다시 원래 자리에 돌려놓는다. (복원추출)\n",
    "\n",
    "뽑을 때마다 각 원소가 뽑힐 확률은 그대로 유지하면서 무한한 크기의 모집단을 만들어낼 수 있다.\n",
    "\n",
    "크기 n의 샘플의 평균을 구하는 부트스트랩 재표본추출 알고리즘은 이렇다.\n",
    "\n",
    "1. 샘플값을 하나 뽑아서 기록한 후 다시 원래대로 돌려놓는다.\n",
    "2. n번 반복한다.\n",
    "3. 재표본추출된 값의 평균을 기록한다.\n",
    "4. 1~3 과정을 R번 반복한다.\n",
    "5. R개의 결과를 사용하여 표준편차(표본평균의 표준오차)를 계산한다. 리스토그램이나 박스플롯을 그리고, 신뢰구간을 찾는다.\n",
    "\n",
    "반복횟수를 크게 할 수록 표준오차나 신뢰구간에 대한 추정이 더 정확해진다. \n",
    "\n",
    "\n",
    "**용어정리**\n",
    "\n",
    "> bootstrap sample: 관측 데이터 집합으로부터 얻은 복원추출 표본\n",
    "\n",
    "> resampling(재표본추출, 재표집, 리샘플링): 관측 데이터로부터 반복해서 표본추출하는 과정. 부트스트랩과 순열(셔플링)과정을 포함한다."
   ]
  },
  {
   "cell_type": "markdown",
   "metadata": {},
   "source": [
    "### bootstrap으로 편향과 표준오차 구하기"
   ]
  },
  {
   "cell_type": "code",
   "execution_count": 19,
   "metadata": {
    "scrolled": true
   },
   "outputs": [
    {
     "name": "stdout",
     "output_type": "stream",
     "text": [
      "Bootstrap Statistics:\n",
      "original: 62000.0\n",
      "bias: -82.09799999999814\n",
      "std. error: 228.73933106830927\n"
     ]
    }
   ],
   "source": [
    "\"\"\"\n",
    "resample 의 n_samples 옵션은 \n",
    "n_samples : int, default=None\n",
    "    Number of samples to generate. If left to None this is\n",
    "    automatically set to the first dimension of the arrays.\n",
    "    If replace is False it should not be larger than the length of\n",
    "    arrays.\n",
    "\"\"\"\n",
    "\n",
    "results1 = []\n",
    "for n_repeat in range(1000):\n",
    "    sample = resample(loans_income)    # 원데이터(loans_income)에서 리샘플함\n",
    "    results1.append(sample.median())   # 해당 샘플의 중앙값을 결과리스트에 더함. 이 과정을 천번.\n",
    "\n",
    "results1 = pd.Series(results1)\n",
    "print('Bootstrap Statistics:')\n",
    "print(f'original: {loans_income.median()}')\n",
    "print(f'bias: {results1.mean() - loans_income.median()}')\n",
    "print(f'std. error: {results1.std()}')"
   ]
  },
  {
   "cell_type": "markdown",
   "metadata": {},
   "source": [
    "### 궁금하니 아래에서 두어번 더 실행해보도록 한다."
   ]
  },
  {
   "cell_type": "code",
   "execution_count": 20,
   "metadata": {
    "scrolled": true
   },
   "outputs": [
    {
     "name": "stdout",
     "output_type": "stream",
     "text": [
      "Bootstrap Statistics:\n",
      "original: 62000.0\n",
      "bias: -84.36899999999878\n",
      "std. error: 237.3956877273712\n"
     ]
    }
   ],
   "source": [
    "results2 = []\n",
    "for n_repeat in range(1000):\n",
    "    sample = resample(loans_income)\n",
    "    results2.append(sample.median())\n",
    "\n",
    "results2 = pd.Series(results2)\n",
    "print('Bootstrap Statistics:')\n",
    "print(f'original: {loans_income.median()}')\n",
    "print(f'bias: {results2.mean() - loans_income.median()}')\n",
    "print(f'std. error: {results2.std()}')"
   ]
  },
  {
   "cell_type": "code",
   "execution_count": 21,
   "metadata": {
    "scrolled": true
   },
   "outputs": [
    {
     "name": "stdout",
     "output_type": "stream",
     "text": [
      "Bootstrap Statistics:\n",
      "original: 62000.0\n",
      "bias: -87.46349999999802\n",
      "std. error: 227.5191054859154\n"
     ]
    }
   ],
   "source": [
    "results3 = []\n",
    "for n_repeat in range(1000):\n",
    "    sample = resample(loans_income)\n",
    "    results3.append(sample.median())\n",
    "\n",
    "results3 = pd.Series(results3)\n",
    "print('Bootstrap Statistics:')\n",
    "print(f'original: {loans_income.median()}')\n",
    "print(f'bias: {results3.mean() - loans_income.median()}')\n",
    "print(f'std. error: {results3.std()}')"
   ]
  },
  {
   "cell_type": "markdown",
   "metadata": {},
   "source": [
    "\n",
    "\n",
    "여기쯤에서 확인해보는 원래 데이터의 통계량을 살펴본다."
   ]
  },
  {
   "cell_type": "code",
   "execution_count": 22,
   "metadata": {},
   "outputs": [
    {
     "data": {
      "text/plain": [
       "count     50000.00000\n",
       "mean      68760.51844\n",
       "std       32872.03537\n",
       "min        4000.00000\n",
       "25%       45000.00000\n",
       "50%       62000.00000\n",
       "75%       85000.00000\n",
       "max      199000.00000\n",
       "Name: x, dtype: float64"
      ]
     },
     "execution_count": 22,
     "metadata": {},
     "output_type": "execute_result"
    }
   ],
   "source": [
    "loans_income.describe()"
   ]
  },
  {
   "cell_type": "markdown",
   "metadata": {},
   "source": [
    "### 정리 및 궁금한 점\n",
    "\n",
    "그냥 궁금한건데, 그럼 저 결과들의 평균은 어떻고, 원 데이터의 스케일에 비해 편향은 얼마정도 되는 것일까? "
   ]
  },
  {
   "cell_type": "code",
   "execution_count": 23,
   "metadata": {},
   "outputs": [
    {
     "name": "stdout",
     "output_type": "stream",
     "text": [
      "61917.902\n",
      "61915.631\n",
      "61912.5365\n"
     ]
    }
   ],
   "source": [
    "rs = [results1, results2, results3]\n",
    "\n",
    "for r in rs:\n",
    "    print(r.mean())"
   ]
  },
  {
   "cell_type": "markdown",
   "metadata": {},
   "source": [
    "오!!! 평균이 중앙값과 가깝게 나타났다. "
   ]
  },
  {
   "cell_type": "code",
   "execution_count": 24,
   "metadata": {},
   "outputs": [
    {
     "data": {
      "text/plain": [
       "0.14107016129031938"
      ]
     },
     "execution_count": 24,
     "metadata": {},
     "output_type": "execute_result"
    }
   ],
   "source": [
    "bias3 = results3.mean() - loans_income.median()\n",
    "\n",
    "abs(bias3) / (loans_income.median()) * 100"
   ]
  },
  {
   "cell_type": "markdown",
   "metadata": {},
   "source": [
    "# 신뢰구간\n",
    "\n",
    "2.5 Confidence Intervals"
   ]
  },
  {
   "cell_type": "code",
   "execution_count": null,
   "metadata": {},
   "outputs": [],
   "source": []
  }
 ],
 "metadata": {
  "kernelspec": {
   "display_name": "Python 3 (ipykernel)",
   "language": "python",
   "name": "python3"
  },
  "language_info": {
   "codemirror_mode": {
    "name": "ipython",
    "version": 3
   },
   "file_extension": ".py",
   "mimetype": "text/x-python",
   "name": "python",
   "nbconvert_exporter": "python",
   "pygments_lexer": "ipython3",
   "version": "3.8.5"
  },
  "toc": {
   "base_numbering": 1,
   "nav_menu": {},
   "number_sections": true,
   "sideBar": true,
   "skip_h1_title": false,
   "title_cell": "Table of Contents",
   "title_sidebar": "Contents",
   "toc_cell": false,
   "toc_position": {},
   "toc_section_display": true,
   "toc_window_display": true
  }
 },
 "nbformat": 4,
 "nbformat_minor": 2
}
