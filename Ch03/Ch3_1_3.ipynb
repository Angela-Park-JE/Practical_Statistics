{
 "cells": [
  {
   "cell_type": "markdown",
   "metadata": {},
   "source": [
    "# CH3. Statistial Experiments and Significance Testin\n",
    "\n",
    "**통계적 실험과 유의성검정**\n",
    "\n",
    "3.1 A/B 검정\n",
    "\n",
    "3.2 가설 검정\n",
    "\n",
    "**3.3 재표본추출(순열검정, 전체순열검정, 부트스트랩 순열검정)**\n"
   ]
  },
  {
   "cell_type": "markdown",
   "metadata": {},
   "source": [
    "# A/B 검정\n",
    "---\n",
    "\n",
    "3.1 A/B Test\n",
    "\n",
    "**연구 대상을 두 가지 이상의 그룹 중 하나에 할당한다. 그리고 서로 다른 처리 조건을 제외한 나머지 조건들은 동일하게 처리한다.**\n",
    "\n",
    "**이상적으로는 대상들은 그룹에 무작위 배정되도록 한다.**\n",
    "\n",
    "용어정리\n",
    "\n",
    "> 처리(treatment): 어떤 대상에 주어지는 특별한 환경이나 조건\n",
    "\n",
    "> 처리군: 특정 처리에 노출된 대상들의 집단\n",
    "\n",
    "> 대조군: 어떤 처리도 하지 않은 대상들의 집단\n",
    "\n",
    "> 임의화(randomization): 처리를 적용할 대상을 임의로 결정하는 과정\n",
    "\n",
    "> subject: 처리를 적용할 개체 대상\n",
    "\n",
    "> 검정통계량(test statistic): 처리 효과를 측정하기 위한 지표\n",
    "\n",
    "예로 이런 문제에 사용된다. \n",
    "\n",
    "    종자 발아 조건을 보기위해 두 가지 토양 처리를 검정\n",
    "    암을 더 효과적으로 억제하는 두 가지 치료법을 검정\n",
    "    두 가지 가격을 검정하여 더 많은 순이익을 산출하는 쪽을 결정\n",
    "\n",
    "추가로\n",
    "\n",
    "> 맹검연구(blind study): 피실험자가 처리 A나 처리 B 중 어느 것을 받고 있는지 알지 못하도록 하는 연구 방식. 특정 처리를 받는 것에 대한 인식이 반응에 영향을 줄 수 있기 때문. 이중 맹검 연구는 조사자와 진행자 모두가 어떤 대상이 어떤 처리를 받았는지 모르게 하는 연구 방식.\n",
    "\n"
   ]
  },
  {
   "cell_type": "markdown",
   "metadata": {},
   "source": [
    "# 가설검정(유의성검정)\n",
    "---\n",
    "3.2 Hypothesis test (significance test)\n",
    "\n",
    "전통적인 통계 분석 방법으로, 목적은 관찰된 효과가 우연에 의한 것인지 여부를 알아내는 것이다.\n",
    "\n",
    "인간은 우연히 발생한 일도 흔하지 않다면, 뭔가 의미가 있을것이라고 해석하는 경향을 가지고 있다. 그러므로 실험에서 얻은 그룹 간의 차이가 무작위로 얻을 수 있는 합리적인 수준과는 극단적으로 다르다는 증거가 필요하다는 논리를 바탕으로 한다.\n",
    "\n",
    "**그룹들이 보이는 결과는 서로 동일하며, 그룹 간의 차이는 우연에 의한 결과라는 것을 기본 가정으로 하며 이 가정을 귀무가설이라고 부른다.**\n",
    "\n",
    "용어정리\n",
    "\n",
    "> 귀무가설(null hypothesis): 우연 때문이라는 가설(유의어: 영가설)\n",
    "\n",
    "> 대립가설(alternative hypothesis): 귀무가설과의 대조(증명하고자 하는 가설)\n",
    "\n",
    "> 일원검정(one-way test): 한 방향으로만 우연히 일어날 확률을 계산하는 가설 검정\n",
    "\n",
    "> 이원검정(two-way test): 양방향으로 우연히 일어날 확률을 계산하는 가설 검정\n",
    "\n"
   ]
  },
  {
   "cell_type": "markdown",
   "metadata": {},
   "source": [
    "# 재표본추출\n",
    "---\n",
    "3.3 Resampling\n",
    "\n",
    "용어정리\n",
    "\n",
    "> 순열검정(permutation test): 두 개 이상의 표본을 함께 결합하여 관측값들을 무작위로 (또는 전부를) 재표본으로 추출하는 과정을 말한다(유의어: 임의화검정, 임의순열검정, 정확검정)\n",
    "\n",
    "> 재표본추출: 관측 데이터로부터 반복해서 표본추출하는 과정\n",
    "\n",
    "> 복원/비복원(with or without replacement): 표본을 추출할 때, 이미 한 번 뽑은 데이터를 다음번 추출을 위해 다시 제자리에 돌려 놓거나/다음 추출에서 제외하는 표본추출 방법\n",
    "\n"
   ]
  },
  {
   "cell_type": "code",
   "execution_count": 1,
   "metadata": {
    "execution": {
     "iopub.execute_input": "2021-09-02T14:39:49.931441Z",
     "iopub.status.busy": "2021-09-02T14:39:49.930827Z",
     "iopub.status.idle": "2021-09-02T14:39:51.513586Z",
     "shell.execute_reply": "2021-09-02T14:39:51.513066Z"
    }
   },
   "outputs": [],
   "source": [
    "# 라이브러리 불러오기\n",
    "\n",
    "%matplotlib inline\n",
    "\n",
    "from pathlib import Path\n",
    "import random\n",
    "\n",
    "import pandas as pd\n",
    "import numpy as np\n",
    "from scipy.stats import trim_mean\n",
    "from scipy import stats\n",
    "from sklearn.utils import resample\n",
    "import statsmodels.api as sm\n",
    "import statsmodels.formula.api as smf\n",
    "from statsmodels.stats import power\n",
    "\n",
    "import seaborn as sns\n",
    "import matplotlib.pylab as plt"
   ]
  },
  {
   "cell_type": "markdown",
   "metadata": {},
   "source": [
    "## 데이터 import"
   ]
  },
  {
   "cell_type": "code",
   "execution_count": 2,
   "metadata": {
    "execution": {
     "iopub.execute_input": "2021-09-02T14:39:51.519386Z",
     "iopub.status.busy": "2021-09-02T14:39:51.518303Z",
     "iopub.status.idle": "2021-09-02T14:39:52.126560Z",
     "shell.execute_reply": "2021-09-02T14:39:52.126882Z"
    }
   },
   "outputs": [],
   "source": [
    "try:\n",
    "    import common\n",
    "    DATA = common.dataDirectory()\n",
    "except ImportError:\n",
    "    DATA = Path().resolve() / 'data'"
   ]
  },
  {
   "cell_type": "code",
   "execution_count": 3,
   "metadata": {
    "execution": {
     "iopub.execute_input": "2021-09-02T14:39:52.131370Z",
     "iopub.status.busy": "2021-09-02T14:39:52.130900Z",
     "iopub.status.idle": "2021-09-02T14:39:52.133711Z",
     "shell.execute_reply": "2021-09-02T14:39:52.133326Z"
    }
   },
   "outputs": [],
   "source": [
    "WEB_PAGE_DATA_CSV = DATA / 'web_page_data.csv'\n",
    "FOUR_SESSIONS_CSV = DATA / 'four_sessions.csv'\n",
    "CLICK_RATE_CSV = DATA / 'click_rates.csv'\n",
    "IMANISHI_CSV = DATA / 'imanishi_data.csv'"
   ]
  },
  {
   "cell_type": "markdown",
   "metadata": {},
   "source": [
    "# Resampling"
   ]
  },
  {
   "cell_type": "markdown",
   "metadata": {},
   "source": [
    "## 순열검정\n",
    "\n",
    "순열 과정에는 두 개 이상의 표본이 관여되며 이들은 통상적으로 A/B 또는 기타 가설검정을 위해 사용되는 그룹들이다. \n",
    "\n",
    "\n",
    "1. 여러 그룹의 결과를 단일 데이터 집합으로 결합한다.\n",
    "2. 결합된 데이터를 잘 섞은 후, 그룹 A와 동일한 크기의 표본을 무작위로 (비복원) 추출한다.\n",
    "3. 나머지 데이터에서 그룹 B와 동일한 크기의 샘플을 무작위로(비복원) 추출한다.\n",
    "4. C, D 등의 그룹에 대해서도 동일한 작업을 수행한다. 이제 원본 표본의 크기를 반영하는 재표본을 수집했다.\n",
    "5. 원래 샘플(예를 들면 그룹 비율의 차이)에 대해 구한 통계량 또는 추정치가 무엇이었든 간에 지금 추출한 재표본에 대해 모두 다시 계산하고 기록한다. 이것으로 한 번의 순열 반복이 진행된다.\n",
    "6. 앞선 단계들을 R번 반복하여 검정통계량의 순열분포를 얻는다.\n",
    "\n",
    "그룹 간의 차이점으로 돌아가서 순열 과정에서 얻은 집합에서의 차이와 비교한다.\n",
    "\n",
    "이 관찰된 차이가 순열로 보이는 차이의 집합 안에 잘 들어 있다면, 우리는 어떤 것도 증명할 수 없다 = 관찰된 차이가 우연히 일어날 수 있는 범위 안에 있다는 말.\n",
    "\n",
    "반대로 관찰된 차이가 대부분의 순열 분포 바깥에 있다면, 이것을 우연 때문이 아니라고 결론 내릴 수 있다. = 통계적으로 유의미하다라고 할 수 있다.\n",
    "\n",
    "## 예제: 웹 점착성\n",
    "\n",
    "두 가지 디자인을 놓고 각 페이지의 세션 시간을 비교한다."
   ]
  },
  {
   "cell_type": "code",
   "execution_count": 4,
   "metadata": {},
   "outputs": [],
   "source": [
    "# 웹페이지 데이터 csv로 불러오기 \n",
    "session_times = pd.read_csv(WEB_PAGE_DATA_CSV)\n",
    "\n",
    "# session_times의 시간컬럼을 본다. 단위의 문제가 있으니(소수점 편의상) 똑같이 100을 곱한다.\n",
    "session_times.Time = 100 * session_times.Time"
   ]
  },
  {
   "cell_type": "code",
   "execution_count": 8,
   "metadata": {},
   "outputs": [
    {
     "data": {
      "text/html": [
       "<div>\n",
       "<style scoped>\n",
       "    .dataframe tbody tr th:only-of-type {\n",
       "        vertical-align: middle;\n",
       "    }\n",
       "\n",
       "    .dataframe tbody tr th {\n",
       "        vertical-align: top;\n",
       "    }\n",
       "\n",
       "    .dataframe thead th {\n",
       "        text-align: right;\n",
       "    }\n",
       "</style>\n",
       "<table border=\"1\" class=\"dataframe\">\n",
       "  <thead>\n",
       "    <tr style=\"text-align: right;\">\n",
       "      <th></th>\n",
       "      <th>Page</th>\n",
       "      <th>Time</th>\n",
       "    </tr>\n",
       "  </thead>\n",
       "  <tbody>\n",
       "    <tr>\n",
       "      <th>0</th>\n",
       "      <td>Page A</td>\n",
       "      <td>21.0</td>\n",
       "    </tr>\n",
       "    <tr>\n",
       "      <th>1</th>\n",
       "      <td>Page B</td>\n",
       "      <td>253.0</td>\n",
       "    </tr>\n",
       "    <tr>\n",
       "      <th>2</th>\n",
       "      <td>Page A</td>\n",
       "      <td>35.0</td>\n",
       "    </tr>\n",
       "    <tr>\n",
       "      <th>3</th>\n",
       "      <td>Page B</td>\n",
       "      <td>71.0</td>\n",
       "    </tr>\n",
       "    <tr>\n",
       "      <th>4</th>\n",
       "      <td>Page A</td>\n",
       "      <td>67.0</td>\n",
       "    </tr>\n",
       "  </tbody>\n",
       "</table>\n",
       "</div>"
      ],
      "text/plain": [
       "     Page   Time\n",
       "0  Page A   21.0\n",
       "1  Page B  253.0\n",
       "2  Page A   35.0\n",
       "3  Page B   71.0\n",
       "4  Page A   67.0"
      ]
     },
     "execution_count": 8,
     "metadata": {},
     "output_type": "execute_result"
    }
   ],
   "source": [
    "session_times.head(5)"
   ]
  },
  {
   "cell_type": "markdown",
   "metadata": {},
   "source": [
    "### 웹 페이지 체류 시간 박스플롯"
   ]
  },
  {
   "cell_type": "code",
   "execution_count": 9,
   "metadata": {},
   "outputs": [
    {
     "data": {
      "image/png": "[encoded data removed]",
      "text/plain": [
       "<Figure size 288x288 with 1 Axes>"
      ]
     },
     "metadata": {
      "needs_background": "light"
     },
     "output_type": "display_data"
    }
   ],
   "source": [
    "# 박스플롯으로 그려본다.\n",
    "\n",
    "ax = session_times.boxplot(by = 'Page', column = 'Time',\n",
    "                          figsize = (4,4))\n",
    "ax.set_xlabel('')\n",
    "ax.set_ylabel('Time (in seconds)')\n",
    "plt.suptitle('')\n",
    "\n",
    "plt.tight_layout()\n",
    "plt.show()"
   ]
  },
  {
   "cell_type": "markdown",
   "metadata": {},
   "source": [
    "박스플롯에 의하면 페이지 B가 방문자들의 체류시간이 더 긴 것으로 나타났다.\n",
    "\n",
    "각 그룹의 평균 시간을 구한다면 이렇게 구할 수 있다."
   ]
  },
  {
   "cell_type": "markdown",
   "metadata": {},
   "source": [
    "### 페이지 간 체류시간 차이"
   ]
  },
  {
   "cell_type": "code",
   "execution_count": 11,
   "metadata": {},
   "outputs": [],
   "source": [
    "mean_pA = session_times[session_times.Page == 'Page A'].Time.mean()\n",
    "mean_pB = session_times[session_times.Page == 'Page B'].Time.mean()"
   ]
  },
  {
   "cell_type": "code",
   "execution_count": 12,
   "metadata": {},
   "outputs": [
    {
     "data": {
      "text/plain": [
       "35.66666666666667"
      ]
     },
     "execution_count": 12,
     "metadata": {},
     "output_type": "execute_result"
    }
   ],
   "source": [
    "mean_pB - mean_pA"
   ]
  },
  {
   "cell_type": "markdown",
   "metadata": {},
   "source": [
    "페이지 B의 세션시간이 A보다 평균 35.67초 정도 더 길다.\n",
    "\n",
    "이때 이 차이가 우연인지 통계적으로 중요한지 판단해야하는 문제가 있다는 것이다!\n",
    "\n",
    "이때 순열검정을 이용한다.\n",
    "\n",
    "잘 섞어서 A 페이지 그룹 데이터 개수와 B 페이지 그룹 데이터 개수 만큼 표본을 추출한다."
   ]
  },
  {
   "cell_type": "code",
   "execution_count": 13,
   "metadata": {},
   "outputs": [
    {
     "data": {
      "text/plain": [
       "Page A    21\n",
       "Page B    15\n",
       "Name: Page, dtype: int64"
      ]
     },
     "execution_count": 13,
     "metadata": {},
     "output_type": "execute_result"
    }
   ],
   "source": [
    "session_times['Page'].value_counts()"
   ]
  },
  {
   "cell_type": "markdown",
   "metadata": {},
   "source": [
    "### 순열검정 진행"
   ]
  },
  {
   "cell_type": "markdown",
   "metadata": {},
   "source": [
    "순열검정을 적용하기 위해 랜덤하게 할당할 수 있는 함수를 만든다."
   ]
  },
  {
   "cell_type": "code",
   "execution_count": 14,
   "metadata": {},
   "outputs": [],
   "source": [
    "# 랜덤하게 개수에 맞춰 데이터를 그룹을 나눈 다음 B군의 평균과 A군의 평균의 차를 반환한다.\n",
    "\n",
    "def perm_fun(x, nA, nB):\n",
    "    n = nA + nB\n",
    "    idx_B = set(random.sample(range(n), nB))\n",
    "    idx_A = set(range(n)) - idx_B\n",
    "    return x.loc[idx_B].mean() - x.loc[idx_A].mean()"
   ]
  },
  {
   "cell_type": "code",
   "execution_count": null,
   "metadata": {},
   "outputs": [],
   "source": [
    "# 함수를 이용하여, R =1000 번 진행 후 이의 관찰된 차이를 구한다\n",
    "\n"
   ]
  },
  {
   "cell_type": "code",
   "execution_count": null,
   "metadata": {},
   "outputs": [],
   "source": []
  },
  {
   "cell_type": "code",
   "execution_count": null,
   "metadata": {},
   "outputs": [],
   "source": []
  },
  {
   "cell_type": "code",
   "execution_count": null,
   "metadata": {},
   "outputs": [],
   "source": []
  },
  {
   "cell_type": "code",
   "execution_count": null,
   "metadata": {},
   "outputs": [],
   "source": []
  }
 ],
 "metadata": {
  "kernelspec": {
   "display_name": "Python 3 (ipykernel)",
   "language": "python",
   "name": "python3"
  },
  "language_info": {
   "codemirror_mode": {
    "name": "ipython",
    "version": 3
   },
   "file_extension": ".py",
   "mimetype": "text/x-python",
   "name": "python",
   "nbconvert_exporter": "python",
   "pygments_lexer": "ipython3",
   "version": "3.8.5"
  },
  "toc": {
   "base_numbering": 1,
   "nav_menu": {},
   "number_sections": true,
   "sideBar": true,
   "skip_h1_title": false,
   "title_cell": "Table of Contents",
   "title_sidebar": "Contents",
   "toc_cell": false,
   "toc_position": {},
   "toc_section_display": true,
   "toc_window_display": false
  }
 },
 "nbformat": 4,
 "nbformat_minor": 2
}
