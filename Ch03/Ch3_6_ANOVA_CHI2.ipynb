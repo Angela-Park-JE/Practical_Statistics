{
 "cells": [
  {
   "cell_type": "markdown",
   "metadata": {},
   "source": [
    "# CH3. Statistial Experiments and Significance Testing\n",
    "\n",
    "**통계적 실험과 유의성검정**\n",
    "\n",
    "**3.6 다중검정**\n",
    "\n"
    "**3.7 자유도**\n"
    "\n"
    "**3.8 ANOVA(분산분석)**\n"
   ]
  },
  {
   "cell_type": "markdown",
   "metadata": {},
   "source": [
    "# data import and library load"
   ]
  },
  {
   "cell_type": "code",
   "execution_count": 1,
   "metadata": {},
   "outputs": [],
   "source": [
    "# 라이브러리 불러오기\n",
    "\n",
    "%matplotlib inline\n",
    "\n",
    "from pathlib import Path\n",
    "import random\n",
    "\n",
    "import pandas as pd\n",
    "import numpy as np\n",
    "from scipy.stats import trim_mean\n",
    "from scipy import stats\n",
    "from sklearn.utils import resample\n",
    "import statsmodels.api as sm\n",
    "import statsmodels.formula.api as smf\n",
    "from statsmodels.stats import power\n",
    "\n",
    "import seaborn as sns\n",
    "import matplotlib.pylab as plt\n",
    "\n",
    "import time"
   ]
  },
  {
   "cell_type": "code",
   "execution_count": 2,
   "metadata": {},
   "outputs": [],
   "source": [
    "try:\n",
    "    import common\n",
    "    DATA = common.dataDirectory()\n",
    "except ImportError:\n",
    "    DATA = Path().resolve() / 'data'"
   ]
  },
  {
   "cell_type": "code",
   "execution_count": 3,
   "metadata": {},
   "outputs": [],
   "source": [
    "# WEB_PAGE_DATA_CSV = DATA / 'web_page_data.csv'\n",
    "FOUR_SESSIONS_CSV = DATA / 'four_sessions.csv'\n",
    "CLICK_RATE_CSV = DATA / 'click_rates.csv'\n",
    "IMANISHI_CSV = DATA / 'imanishi_data.csv'"
   ]
  },
  {
   "cell_type": "markdown",
   "metadata": {},
   "source": [
    "# 분산분석: ANOVA\n",
    "---\n",
    "3.6.ANOVA"
   ]
  },
  {
   "cell_type": "markdown",
   "metadata": {},
   "source": [
    "##  four_sessions\n",
    "\n",
    "네 페이지의 세션 시간 비교검정하기"
   ]
  },
  {
   "cell_type": "code",
   "execution_count": 4,
   "metadata": {},
   "outputs": [],
   "source": [
    "four_sessions = pd.read_csv(FOUR_SESSIONS_CSV)"
   ]
  },
  {
   "cell_type": "code",
   "execution_count": 5,
   "metadata": {},
   "outputs": [
    {
     "data": {
      "text/html": [
       "<div>\n",
       "<style scoped>\n",
       "    .dataframe tbody tr th:only-of-type {\n",
       "        vertical-align: middle;\n",
       "    }\n",
       "\n",
       "    .dataframe tbody tr th {\n",
       "        vertical-align: top;\n",
       "    }\n",
       "\n",
       "    .dataframe thead th {\n",
       "        text-align: right;\n",
       "    }\n",
       "</style>\n",
       "<table border=\"1\" class=\"dataframe\">\n",
       "  <thead>\n",
       "    <tr style=\"text-align: right;\">\n",
       "      <th></th>\n",
       "      <th>Page</th>\n",
       "      <th>Time</th>\n",
       "    </tr>\n",
       "  </thead>\n",
       "  <tbody>\n",
       "    <tr>\n",
       "      <th>0</th>\n",
       "      <td>Page 1</td>\n",
       "      <td>164</td>\n",
       "    </tr>\n",
       "    <tr>\n",
       "      <th>1</th>\n",
       "      <td>Page 2</td>\n",
       "      <td>178</td>\n",
       "    </tr>\n",
       "    <tr>\n",
       "      <th>2</th>\n",
       "      <td>Page 3</td>\n",
       "      <td>175</td>\n",
       "    </tr>\n",
       "    <tr>\n",
       "      <th>3</th>\n",
       "      <td>Page 4</td>\n",
       "      <td>155</td>\n",
       "    </tr>\n",
       "    <tr>\n",
       "      <th>4</th>\n",
       "      <td>Page 1</td>\n",
       "      <td>172</td>\n",
       "    </tr>\n",
       "  </tbody>\n",
       "</table>\n",
       "</div>"
      ],
      "text/plain": [
       "     Page  Time\n",
       "0  Page 1   164\n",
       "1  Page 2   178\n",
       "2  Page 3   175\n",
       "3  Page 4   155\n",
       "4  Page 1   172"
      ]
     },
     "execution_count": 5,
     "metadata": {},
     "output_type": "execute_result"
    }
   ],
   "source": [
    "four_sessions.head()"
   ]
  },
  {
   "cell_type": "code",
   "execution_count": 6,
   "metadata": {},
   "outputs": [
    {
     "data": {
      "image/png": "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\n",
      "text/plain": [
       "<Figure size 288x288 with 1 Axes>"
      ]
     },
     "metadata": {
      "needs_background": "light"
     },
     "output_type": "display_data"
    }
   ],
   "source": [
    "# 박스플롯으로 바로 시각화 하기\n",
    "\n",
    "ax = four_sessions.boxplot(by = 'Page', column = 'Time',\n",
    "                           figsize=(4, 4))\n",
    "ax.set_xlabel('Page')\n",
    "ax.set_ylabel('Time (in seconds)')\n",
    "plt.suptitle('')\n",
    "plt.title('')\n",
    "\n",
    "plt.tight_layout()\n",
    "plt.show()"
   ]
  },
  {
   "cell_type": "code",
   "execution_count": null,
   "metadata": {},
   "outputs": [],
   "source": []
  }
 ],
 "metadata": {
  "kernelspec": {
   "display_name": "Python 3 (ipykernel)",
   "language": "python",
   "name": "python3"
  },
  "language_info": {
   "codemirror_mode": {
    "name": "ipython",
    "version": 3
   },
   "file_extension": ".py",
   "mimetype": "text/x-python",
   "name": "python",
   "nbconvert_exporter": "python",
   "pygments_lexer": "ipython3",
   "version": "3.8.5"
  },
  "toc": {
   "base_numbering": 1,
   "nav_menu": {},
   "number_sections": true,
   "sideBar": true,
   "skip_h1_title": false,
   "title_cell": "Table of Contents",
   "title_sidebar": "Contents",
   "toc_cell": false,
   "toc_position": {},
   "toc_section_display": true,
   "toc_window_display": false
  }
 },
 "nbformat": 4,
 "nbformat_minor": 2
}
