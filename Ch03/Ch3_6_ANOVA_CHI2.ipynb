{
 "cells": [
  {
   "cell_type": "markdown",
   "metadata": {},
   "source": [
    "# CH3. Statistial Experiments and Significance Testing\n",
    "\n",
    "**통계적 실험과 유의성검정**\n",
    "\n",
    "**3.6 다중검정**\n",
    "\n",
    "**3.7 자유도**\n",
    "\n",
    "**3.8 ANOVA(분산분석)**\n",
    "\n"
   ]
  },
  {
   "cell_type": "markdown",
   "metadata": {},
   "source": [
    "# data import and library load"
   ]
  },
  {
   "cell_type": "code",
   "execution_count": 1,
   "metadata": {},
   "outputs": [],
   "source": [
    "# 라이브러리 불러오기\n",
    "\n",
    "%matplotlib inline\n",
    "\n",
    "from pathlib import Path\n",
    "import random\n",
    "\n",
    "import pandas as pd\n",
    "import numpy as np\n",
    "from scipy.stats import trim_mean\n",
    "from scipy import stats\n",
    "from sklearn.utils import resample\n",
    "import statsmodels.api as sm\n",
    "import statsmodels.formula.api as smf\n",
    "from statsmodels.stats import power\n",
    "\n",
    "import seaborn as sns\n",
    "import matplotlib.pylab as plt\n",
    "\n",
    "import time"
   ]
  },
  {
   "cell_type": "code",
   "execution_count": 2,
   "metadata": {},
   "outputs": [],
   "source": [
    "try:\n",
    "    import common\n",
    "    DATA = common.dataDirectory()\n",
    "except ImportError:\n",
    "    DATA = Path().resolve() / 'data'"
   ]
  },
  {
   "cell_type": "code",
   "execution_count": 3,
   "metadata": {},
   "outputs": [],
   "source": [
    "# WEB_PAGE_DATA_CSV = DATA / 'web_page_data.csv'\n",
    "FOUR_SESSIONS_CSV = DATA / 'four_sessions.csv'\n",
    "CLICK_RATE_CSV = DATA / 'click_rates.csv'\n",
    "IMANISHI_CSV = DATA / 'imanishi_data.csv'"
   ]
  },
  {
   "cell_type": "markdown",
   "metadata": {},
   "source": [
    "# 다중검정\n",
    "---\n",
    "3.6 \n",
    "\n",
    "데이터에 대해서 다양한 관점으로 충분한 질문을 던지다 보면 대부분 통계적으로 유의미한 결과가 나오게 된다.\n",
    "\n",
    "이떄 어떤 효과가 통계적으로 유믜이마하다고 '잘못'된 결론을 내리는 경우를 **제1종 오류**라고 하는데, 0.05의 유의수준에서 항항 유의미하지 않다는 올바른 검정 결과가 나올 확률을 먼저 계산한 다음 1에서 빼면 이 확률을 구할 수 있다. 무의미하다고 정확하게 검정을 할 확률이 0.95이므로, 20번의 유의성 검정을 수행한다면 하면 $ 0.95^{20} = 0.36$ 이다. \n",
    "\n",
    "즉, 적어도 하나의 예측값이 유의미하다고 검정 결과가 나올 확률은 이 확률의 나머지, $ 1- (모든 것이 무의미하다는 결론이 나올 확률) = 0.64$ 가 된다.\n",
    "\n",
    "이것을 **알파 인플레이션**이라고 한다.\n",
    "\n",
    "이 문제는 데이터 마이닝에서 오버피팅 관련 문제가 있다. \n",
    "\n",
    "추가하는 변수가 많을 수록 또는 더 많은 모델을 사용할 수록 뭔가가 우연에 의해 '유의미한 것'으로 나타날 확률이 커진다.\n",
    "\n",
    "##### 용어 정리\n",
    "\n",
    "> 제1종 오류(type 1 error): 어떤 효과가 통계적으로 유의미하다고 잘못된 결론을 내린 것\n",
    "\n",
    "> 거짓 발견 비율(FDR, False, Discovery Rate): 다중검정에서 1종 오류가 발생하는 비율. 레코드가 1로 표시된 것이 거짓일 확률\n",
    "\n",
    "> 알파 인플레이션(alpha inflation): 제1종 오류를 만들 확률인 **알파**가 더 많은 테스트를 수행할 수록 증가하는 다중검정 현상\n",
    "\n",
    "> p값 조정(adjustment of p-value): 동일한 데이터에 대해 다중검정을 수행하는 경우에 필요\n",
    "\n",
    "> 과대적합(overffiting): 잡음까지 피팅\n"
   ]
  },
  {
   "cell_type": "markdown",
   "metadata": {},
   "source": [
    "통계학에서 수정 절차는 보통, 단일 가설검정을 할 때보다 통계적 유의성에 대한 기준을 더 엄격하게 설정함으로서 보완한다.\n",
    "\n",
    "일반적으로 검정 횟수에 따라 '유의 수준을 나누는' 방법을 사용한다. \n",
    "\n",
    "이는 각 검정에 대해 더 작은 알파를(0.05에서 0.01을 적용한다던가?), 즉 통계쩍 유의성에 대해 더 엄격한 잣대를 적용한다.\n",
    "\n",
    "> 본페로니 수정(Bonferroni adjustment): 알파를 비교 횟수n 으로 나눔\n",
    "\n",
    "> 투키의 HSD(투키의 정직유의차, honest significant difference): 그룹 평균 간의 최대 차이에 적용하는 방법. 순열검정처럼 모든 값을 섞고 그룹과 동일한 크기의 재표본 그룹을 뽑아서 재표본한 그룹 평균 간의 최대 차이에 적용.\n",
    "\n",
    "---\n",
    "\n",
    "다중검정문제는 데이터를 고문하듯 샅샅이 훑는 것과 관련이 있다. **달리 말하면 충분히 복잡한 데이터가 주어졌을 때 흥미로운 것을 발견하지 못했다면 데이터를 충분히 들여다보지 않은 탓이다.**"
   ]
  },
  {
   "cell_type": "markdown",
   "metadata": {},
   "source": [
    "# 자유도\n",
    "---\n",
    "3.7\n",
    "\n",
    "'자유도' : 표본 데이터에서 계산된 통계량에서, 변화가 가능한 값들의 개수. d.f.(degree of freedom)이라고도 부른다.\n",
    "\n",
    "n이 충분히 크게 되면 거의 차이가 없다. 하지만 회귀에서 요인 변수를 사용할 때, 범주형 변수를 이진 지표로 변 요인화 할 때 많이 일어난다.\n",
    "\n",
    "다중공산성 문제를 피하기 위해 범주형 변수들을 n-1 지표나 더미 변수로 요인화하는 것의 이유가 된다."
   ]
  },
  {
   "cell_type": "markdown",
   "metadata": {},
   "source": [
    "# 분산분석: ANOVA\n",
    "---\n",
    "3.6.ANOVA\n",
    "\n",
    "여러 그룹 간의 결과를 분석하기 위해, 통계적으로 유의미한 차이를 검정하는 통계적 절차.\n",
    "\n",
    "AB검정과 비슷한 절차를 확장하여, 그룹 간 전체적인 평차가 우연히 발생할 수 있는 범위 내에 있는지를 평가하기 위해 사용한다.\n",
    "\n",
    "ANOVA 결과의 유용함은 그룹 처리, 상호작용 효과, 오차와 관련된 분산의 구성 요소들을 구분하는 데에 있다.\n",
    "\n",
    "##### 용어정리\n",
    "\n",
    "> 쌍별 비교(pairwise comparison): ㅇ여러 그룹 중 두 그룹 간의(ex. 평균에 대한) 가설검정\n",
    "\n",
    "> 총괄검정(omnibus test): 여러 그룹 평균들의 전체 분산에 관한 단일 가설 검정\n",
    "\n",
    "> 분산분해(decomposition of variance): 구성 요소 분리. 예를 들면, 전체 평균, 처리 평균, 잔차 오차로 부터 개별 값들에 대한 기여를 뜻한다.\n",
    "\n",
    "> F-통계량(F-statistic): 그룹 평균 간의 차이가 **랜덤 모델에서 예상되는 것에서 벗어나는 정도** 를 측정하는 표준화된 통계량\n",
    "\n",
    "> SS(sum of squares): 어떤 평균으로부터의 편차들의 제곱을 합한 것"
   ]
  },
  {
   "cell_type": "markdown",
   "metadata": {},
   "source": [
    "##  four_sessions\n",
    "\n",
    "네 페이지의 세션 시간 비교검정하기"
   ]
  },
  {
   "cell_type": "code",
   "execution_count": 4,
   "metadata": {},
   "outputs": [],
   "source": [
    "four_sessions = pd.read_csv(FOUR_SESSIONS_CSV)"
   ]
  },
  {
   "cell_type": "code",
   "execution_count": 5,
   "metadata": {},
   "outputs": [
    {
     "data": {
      "text/html": [
       "<div>\n",
       "<style scoped>\n",
       "    .dataframe tbody tr th:only-of-type {\n",
       "        vertical-align: middle;\n",
       "    }\n",
       "\n",
       "    .dataframe tbody tr th {\n",
       "        vertical-align: top;\n",
       "    }\n",
       "\n",
       "    .dataframe thead th {\n",
       "        text-align: right;\n",
       "    }\n",
       "</style>\n",
       "<table border=\"1\" class=\"dataframe\">\n",
       "  <thead>\n",
       "    <tr style=\"text-align: right;\">\n",
       "      <th></th>\n",
       "      <th>Page</th>\n",
       "      <th>Time</th>\n",
       "    </tr>\n",
       "  </thead>\n",
       "  <tbody>\n",
       "    <tr>\n",
       "      <th>0</th>\n",
       "      <td>Page 1</td>\n",
       "      <td>164</td>\n",
       "    </tr>\n",
       "    <tr>\n",
       "      <th>1</th>\n",
       "      <td>Page 2</td>\n",
       "      <td>178</td>\n",
       "    </tr>\n",
       "    <tr>\n",
       "      <th>2</th>\n",
       "      <td>Page 3</td>\n",
       "      <td>175</td>\n",
       "    </tr>\n",
       "    <tr>\n",
       "      <th>3</th>\n",
       "      <td>Page 4</td>\n",
       "      <td>155</td>\n",
       "    </tr>\n",
       "    <tr>\n",
       "      <th>4</th>\n",
       "      <td>Page 1</td>\n",
       "      <td>172</td>\n",
       "    </tr>\n",
       "  </tbody>\n",
       "</table>\n",
       "</div>"
      ],
      "text/plain": [
       "     Page  Time\n",
       "0  Page 1   164\n",
       "1  Page 2   178\n",
       "2  Page 3   175\n",
       "3  Page 4   155\n",
       "4  Page 1   172"
      ]
     },
     "execution_count": 5,
     "metadata": {},
     "output_type": "execute_result"
    }
   ],
   "source": [
    "four_sessions.head()"
   ]
  },
  {
   "cell_type": "code",
   "execution_count": 6,
   "metadata": {
    "scrolled": true
   },
   "outputs": [
    {
     "data": {
      "image/png": "[encoded data removed]",
      "text/plain": [
       "<Figure size 288x288 with 1 Axes>"
      ]
     },
     "metadata": {
      "needs_background": "light"
     },
     "output_type": "display_data"
    }
   ],
   "source": [
    "# 박스플롯으로 바로 시각화 하기\n",
    "\n",
    "ax = four_sessions.boxplot(by = 'Page', column = 'Time',\n",
    "                           figsize=(4, 4))\n",
    "ax.set_xlabel('Page')\n",
    "ax.set_ylabel('Time (in seconds)')\n",
    "plt.suptitle('')\n",
    "plt.title('')\n",
    "\n",
    "plt.tight_layout()\n",
    "plt.show()"
   ]
  },
  {
   "cell_type": "markdown",
   "metadata": {},
   "source": [
    "### 결과 및 원본 코드 \n",
    "\n",
    "서로 차이가 큰 것을 볼 수 있는데, 한 쌍씩 비교하는 횟수가 증가할 수록 우연히 일어난 일에 속을 가능성이 커진다.\n",
    "\n",
    "개별간의 비교에 대해 걱정하는 대신, '모든 페이지가 동일한 점착성을 갖는지, 이들 차이는 우연이고 원래 4 페이지에 할당된 세션 시간 역시 무작위가 맞는지,' 라는 질문을 다루는 총괄검정을 할 수 있다. 이때 사용하는 것이 ANOVA인 것이다!"
   ]
  },
  {
   "cell_type": "code",
   "execution_count": null,
   "metadata": {},
   "outputs": [],
   "source": [
    "# original code \n",
    "\n",
    "# four_sessions = pd.read_csv(FOUR_SESSIONS_CSV)\n",
    "\n",
    "# ax = four_sessions.boxplot(by='Page', column='Time',\n",
    "#                            figsize=(4, 4))\n",
    "# ax.set_xlabel('Page')\n",
    "# ax.set_ylabel('Time (in seconds)')\n",
    "# plt.suptitle('')\n",
    "# plt.title('')\n",
    "\n",
    "# plt.tight_layout()\n",
    "# plt.show()"
   ]
  },
  {
   "cell_type": "markdown",
   "metadata": {},
   "source": [
    "## ANOVA의 토대가 되는 재표본 추출 과정\n",
    "\n",
    "1. 모든 데이터를 한 곳에 모음\n",
    "2. 5개의 값(각 페이지별 레코드 수) 을 갖는 4개의 재표본(페이지 개수)을 섞어서 추출\n",
    "3. 각 재표본 그룹의 평균을 기록\n",
    "4. 네 그룹 평균 사이의 분산을 기록\n",
    "5. 위 2-4단계를 반복\n",
    "\n",
    "재표본추출한 분산이 관찰된 변화를 초과한 시간은 바로 p값이 된다.\n",
    "\n",
    "이전에 했었던 순열검정을 다시 해본다."
   ]
  },
  {
   "cell_type": "code",
   "execution_count": 10,
   "metadata": {
    "scrolled": false
   },
   "outputs": [
    {
     "name": "stdout",
     "output_type": "stream",
     "text": [
      "Observed means:  [172.8 182.6 175.6 164.6]\n",
      "Variance:  55.426666666666655\n",
      "Pr(Prob) 0.08266666666666667\n"
     ]
    }
   ],
   "source": [
    "# 원래의 각 그룹별 평균의 분산\n",
    "observed_variance = four_sessions.groupby('Page').mean().var()[0] \n",
    "\n",
    "# 원래 그룹별 평균과 분산 출력해두기\n",
    "print('Observed means: ', four_sessions.groupby('Page').mean().values.ravel())\n",
    "print('Variance: ', observed_variance)\n",
    "\n",
    "# df 내의 값들을 섞는 함수\n",
    "def perm_test(df):\n",
    "    df = df.copy()                                        # 원본을 바꾸지 않도록\n",
    "    df['Time'] = np.random.permutation(df['Time'].values) # Time 레코드를 랜덤하게 순서를 바꿈\n",
    "    return df.groupby('Page').mean().var()[0]             # TIme 레코드만 바뀌어있기에 랜덤하게 바뀐 값들을 Page별로 그룹해서 평균의 분산을 구함\n",
    "\n",
    "# 3000 번 반복\n",
    "perm_variance = [perm_test(four_sessions) for _ in range(3000)] # R번 반복한 평균의 분산들\n",
    "print('Pr(Prob)', np.mean([var > observed_variance for var in perm_variance])) # R개의 분산들 중 원래의 평균의 분산을 넘어가는 애들의 "
   ]
  },
  {
   "cell_type": "markdown",
   "metadata": {},
   "source": [
    "### 결과 및 원본 코드\n",
    "\n",
    "통상적인 임계값 5%에 달하지 못하고 8퍼센트이다. 그렇기에 네 페이지 간의 차이가 우연히 발생할 수 있다고 결론 내리게 된다.\n",
    "\n"
   ]
  },
  {
   "cell_type": "code",
   "execution_count": null,
   "metadata": {},
   "outputs": [],
   "source": [
    "# # original code\n",
    "\n",
    "# observed_variance = four_sessions.groupby('Page').mean().var()[0]\n",
    "# print('Observed means:', four_sessions.groupby('Page').mean().values.ravel())\n",
    "# print('Variance:', observed_variance)\n",
    "# # Permutation test example with stickiness\n",
    "# def perm_test(df):\n",
    "#     df = df.copy()\n",
    "#     df['Time'] = np.random.permutation(df['Time'].values)\n",
    "#     return df.groupby('Page').mean().var()[0]\n",
    "    \n",
    "# print(perm_test(four_sessions))"
   ]
  },
  {
   "cell_type": "markdown",
   "metadata": {},
   "source": [
    "## 위 결과 시각화 \n",
    "\n",
    "얼마나 넘었는지 시각화를 해본다."
   ]
  },
  {
   "cell_type": "code",
   "execution_count": 14,
   "metadata": {},
   "outputs": [
    {
     "data": {
      "image/png": "[encoded data removed]",
      "text/plain": [
       "<Figure size 360x360 with 1 Axes>"
      ]
     },
     "metadata": {
      "needs_background": "light"
     },
     "output_type": "display_data"
    }
   ],
   "source": [
    "fig, ax = plt.subplots(figsize = (5, 5))\n",
    "\n",
    "ax.hist(perm_variance, bins = 11, rwidth = 0.9)\n",
    "ax.axvline(x = observed_variance, color = 'black', lw = 2) # 관측된 원래 평균의 분산\n",
    "ax.text(60, 200, 'Observed \\n variance', bbox = {'facecolor':'white'})\n",
    "\n",
    "ax.set_xlabel('Variance')\n",
    "ax.set_ylabel('Frequency')\n",
    "\n",
    "plt.tight_layout()\n",
    "plt.show()"
   ]
  },
  {
   "cell_type": "markdown",
   "metadata": {},
   "source": [
    "## F통계량\n",
    "\n",
    "두 그룹의 평균을 비교하기 위해 순열겁정 대신 t검정을 사용할 수 있듯,\n",
    "\n",
    "F통계량을 기반으로한 ANOVA검정도 있다. F통계량은 잔차 오차로 인한 분산과 그룹 평균(처리 효과)의 분산에 대한 비율을 기초로 한다.\n",
    "\n",
    "이 비율이 높을수록 통계적으로 유의미하다고 할 수 있다. \n",
    "\n",
    "데이터가 정규분포를 따를 경우, 통계 이론에 따르면 해당 통계량은 특정 분포를 따르게 되어있는데, 이를 토대로 p값을 계산할 수 있다.\n",
    "\n",
    "구하기 위해 statsmodel을 사용한다!"
   ]
  },
  {
   "cell_type": "code",
   "execution_count": 17,
   "metadata": {},
   "outputs": [],
   "source": [
    "# import statsmodels.api as sm\n",
    "# import statsmodels.formula.api as smf\n",
    "\n",
    "f_model = smf.ols('Time ~ Page', data = four_sessions).fit()"
   ]
  },
  {
   "cell_type": "code",
   "execution_count": 18,
   "metadata": {},
   "outputs": [
    {
     "data": {
      "text/html": [
       "<div>\n",
       "<style scoped>\n",
       "    .dataframe tbody tr th:only-of-type {\n",
       "        vertical-align: middle;\n",
       "    }\n",
       "\n",
       "    .dataframe tbody tr th {\n",
       "        vertical-align: top;\n",
       "    }\n",
       "\n",
       "    .dataframe thead th {\n",
       "        text-align: right;\n",
       "    }\n",
       "</style>\n",
       "<table border=\"1\" class=\"dataframe\">\n",
       "  <thead>\n",
       "    <tr style=\"text-align: right;\">\n",
       "      <th></th>\n",
       "      <th>df</th>\n",
       "      <th>sum_sq</th>\n",
       "      <th>mean_sq</th>\n",
       "      <th>F</th>\n",
       "      <th>PR(&gt;F)</th>\n",
       "    </tr>\n",
       "  </thead>\n",
       "  <tbody>\n",
       "    <tr>\n",
       "      <th>Page</th>\n",
       "      <td>3.0</td>\n",
       "      <td>831.4</td>\n",
       "      <td>277.133333</td>\n",
       "      <td>2.739825</td>\n",
       "      <td>0.077586</td>\n",
       "    </tr>\n",
       "    <tr>\n",
       "      <th>Residual</th>\n",
       "      <td>16.0</td>\n",
       "      <td>1618.4</td>\n",
       "      <td>101.150000</td>\n",
       "      <td>NaN</td>\n",
       "      <td>NaN</td>\n",
       "    </tr>\n",
       "  </tbody>\n",
       "</table>\n",
       "</div>"
      ],
      "text/plain": [
       "            df  sum_sq     mean_sq         F    PR(>F)\n",
       "Page       3.0   831.4  277.133333  2.739825  0.077586\n",
       "Residual  16.0  1618.4  101.150000       NaN       NaN"
      ]
     },
     "execution_count": 18,
     "metadata": {},
     "output_type": "execute_result"
    }
   ],
   "source": [
    "# analysis of variance aov\n",
    "aov_table = sm.stats.anova_lm(f_model)\n",
    "aov_table"
   ]
  },
  {
   "cell_type": "code",
   "execution_count": 21,
   "metadata": {},
   "outputs": [
    {
     "name": "stdout",
     "output_type": "stream",
     "text": [
      "F-Statistic: 1.3699\n",
      "p-value: 0.0388\n"
     ]
    }
   ],
   "source": [
    "# f 통계량과 p밸류 출력하기\n",
    "\n",
    "res = stats.f_oneway(four_sessions[four_sessions['Page'] == 'Page 1']['Time'],\n",
    "                   four_sessions[four_sessions['Page'] == 'Page 2']['Time'],\n",
    "                   four_sessions[four_sessions['Page'] == 'Page 3']['Time'],\n",
    "                   four_sessions[four_sessions['Page'] == 'Page 4']['Time'])\n",
    "\n",
    "print(f'F-Statistic: {res.statistic / 2:.4f}')\n",
    "print(f'p-value: {res.pvalue / 2:.4f}')"
   ]
  },
  {
   "cell_type": "markdown",
   "metadata": {},
   "source": [
    "### 결과 및 원본 코드\n",
    "\n",
    "Df는 자유도, sum_sq 는 제곱합, mean_sq는 평균제곱편차, F는 F통계량을 가르킨다.\n",
    "\n",
    "(여기는 정말 이해가 안가는 부분인데)\n",
    "\n",
    "총평균의 경우, 제곱합은 0에서부터 총평균까지의 거리를 구하고, 제곱한 다음, 20(관측수)를 곱한 값과 같다. 따라서 총평균에 대한 자유도는 정의에 따라 1이 된다.\n",
    "\n",
    "처리 방법에 대한 평균의 자유도는 3이다. (3개의 평균과 함께 총평균이 정해지면 나머지 평균은 달라질 수없다. 는 알겠다) 처리 평균에 대한 제곱합은 각 처리 평균과 총평균 사이의 편차를 제곱한 값들의 합이다.\n",
    "\n",
    "잔차의 경우 자유도는 16(즉 20개 관측값 중에 16개는 총평균과 처리 평균이 정해지면 달라질 수 있음)이며\n",
    "\n",
    "SS는 개별 관측치와 처리 평균의 차의 제곱합이가. 평균 제곱(MS)는 제곱합을 자유도로 나눈 값이다.\n",
    "\n",
    "F통계량은 MS(처리)/MS(오차). F값은 이 비율에 따라 결정되며 표준 F분포와 비교하여 그룹 평균간의 차이가 랜덥 변이에서 예상되는 것보다 큰지 여부를 결정할 수 있다."
   ]
  },
  {
   "cell_type": "code",
   "execution_count": null,
   "metadata": {},
   "outputs": [],
   "source": [
    "# original code\n",
    "\n",
    "# model = smf.ols('Time ~ Page', data=four_sessions).fit()\n",
    "                \n",
    "# aov_table = sm.stats.anova_lm(model)\n",
    "# print(aov_table)"
   ]
  },
  {
   "cell_type": "code",
   "execution_count": null,
   "metadata": {},
   "outputs": [],
   "source": [
    "# res = stats.f_oneway(four_sessions[four_sessions.Page == 'Page 1'].Time, \n",
    "#                      four_sessions[four_sessions.Page == 'Page 2'].Time,\n",
    "#                      four_sessions[four_sessions.Page == 'Page 3'].Time,\n",
    "#                      four_sessions[four_sessions.Page == 'Page 4'].Time)\n",
    "# print(f'F-Statistic: {res.statistic / 2:.4f}')\n",
    "# print(f'p-value: {res.pvalue / 2:.4f}')"
   ]
  },
  {
   "cell_type": "markdown",
   "metadata": {},
   "source": [
    "## 이원 분산분석\n",
    "\n",
    "비교해야할 요소가 두 가지일 때. 지금 데이터라고 친다면 평일 주말 이렇게 한 번 더 나뉜다던지 하는 부분이다. 이때 필요한 것이 이원 ANOVA.\n",
    "\n",
    "상호작용 효과를 확인하는 식으로, 일원 ANOVA와 방식은 비슷하다.\n",
    "\n",
    "이때 총평균 효과와 처리 효과를 확인한 후, 각 그룹의 주말과 평일 데이터를 따로 분리한다. 그리고 그 부분집합들에 대한 평균과 처리 평균 사이의 차이를 찾는다. \n",
    "\n",
    "회귀와 로지스틱 회귀 같은 모델을 위해 이원 ANOVA분석이 사용된다.\n",
    "\n"
   ]
  },
  {
   "cell_type": "markdown",
   "metadata": {},
   "source": [
    "### Two-way anova only available with statsmodels\n",
    "```\n",
    "formula = 'len ~ C(supp) + C(dose) + C(supp):C(dose)'\n",
    "model = ols(formula, data).fit()\n",
    "aov_table = anova_lm(model, typ=2)\n",
    "```\n",
    "\n",
    "...??"
   ]
  },
  {
   "cell_type": "markdown",
   "metadata": {},
   "source": [
    "# 카이제곱검정\n",
    "---\n",
    "3.9 Chi-Square Test\n",
    "\n",
    "카이제곱검정은 횟수 관련 데이터에 주로 사용되며, 예상되는 분포에 얼마나 잘 맞는지를 검정한다.\n",
    "\n",
    "보통, 카이제곱통계량은 변수 간 독립성에 대한 귀무가설이 타당한지 평가하기 위해 $r \\times c$ 분할표를 함께 사용한다. (r은 row, c는 column)\n",
    "\n",
    "##### 용어 정리\n",
    "\n",
    "> 카이제곱통계량(chi-square statistic): 기댓값으로부터 어떤 관찰값까지의 거리를 나타내는 측정치\n",
    "\n",
    "> 기댓값(expectation(expected): 어떤 가정(보통은 그 가정은 귀무가설)으로부터 데이터가 발생할 때, 그에 대해 기대하는 정도"
   ]
  },
  {
   "cell_type": "markdown",
   "metadata": {},
   "source": [
    "## click_rate: abc 헤드라인 별 클릭수 data"
   ]
  },
  {
   "cell_type": "code",
   "execution_count": 22,
   "metadata": {},
   "outputs": [
    {
     "name": "stdout",
     "output_type": "stream",
     "text": [
      "Headline  Headline A  Headline B  Headline C\n",
      "Click                                       \n",
      "Click             14           8          12\n",
      "No-click         986         992         988\n"
     ]
    }
   ],
   "source": [
    "# Chi-Square Test: A Resampling Approach\n",
    "# 표 3-4\n",
    "\n",
    "click_rate = pd.read_csv(CLICK_RATE_CSV)\n",
    "clicks = click_rate.pivot(index = 'Click',\n",
    "                         columns = 'Headline',\n",
    "                         values = 'Rate')\n",
    "print(clicks)"
   ]
  },
  {
   "cell_type": "markdown",
   "metadata": {},
   "source": [
    "재표본추출을 통해, 클릭률이 우연히 발생할 수 있는 것보다 유의미한 정도로 큰 것인지 검정할 수 있다.\n",
    "\n",
    "그렇게 검정을 하려면, 클릭의 '기대'분포가 필요하며, 이 경우 각 헤드라인 모두가 동일한 클릭률을 갖는다-는 가정이 귀무가설이 된다.\n",
    "\n",
    "전체 클릭률은 34/3000 이다.\n",
    "\n",
    "그렇게 동일한 클릭률을 갖는다고 했을 떄의 기댓값은 다음과 같다.\n"
   ]
  },
  {
   "cell_type": "code",
   "execution_count": 23,
   "metadata": {},
   "outputs": [
    {
     "data": {
      "text/html": [
       "<div>\n",
       "<style scoped>\n",
       "    .dataframe tbody tr th:only-of-type {\n",
       "        vertical-align: middle;\n",
       "    }\n",
       "\n",
       "    .dataframe tbody tr th {\n",
       "        vertical-align: top;\n",
       "    }\n",
       "\n",
       "    .dataframe thead th {\n",
       "        text-align: right;\n",
       "    }\n",
       "</style>\n",
       "<table border=\"1\" class=\"dataframe\">\n",
       "  <thead>\n",
       "    <tr style=\"text-align: right;\">\n",
       "      <th></th>\n",
       "      <th>Headline A</th>\n",
       "      <th>Headline B</th>\n",
       "      <th>Headline C</th>\n",
       "    </tr>\n",
       "    <tr>\n",
       "      <th>Click</th>\n",
       "      <th></th>\n",
       "      <th></th>\n",
       "      <th></th>\n",
       "    </tr>\n",
       "  </thead>\n",
       "  <tbody>\n",
       "    <tr>\n",
       "      <th>Click</th>\n",
       "      <td>11.333333</td>\n",
       "      <td>11.333333</td>\n",
       "      <td>11.333333</td>\n",
       "    </tr>\n",
       "    <tr>\n",
       "      <th>No-click</th>\n",
       "      <td>988.666667</td>\n",
       "      <td>988.666667</td>\n",
       "      <td>988.666667</td>\n",
       "    </tr>\n",
       "  </tbody>\n",
       "</table>\n",
       "</div>"
      ],
      "text/plain": [
       "          Headline A  Headline B  Headline C\n",
       "Click                                       \n",
       "Click      11.333333   11.333333   11.333333\n",
       "No-click  988.666667  988.666667  988.666667"
      ]
     },
     "execution_count": 23,
     "metadata": {},
     "output_type": "execute_result"
    }
   ],
   "source": [
    "# 표 3-5\n",
    "# 각 줄의 평균을 구해 데이터 프레임을 만든당\n",
    "\n",
    "each_row_average = clicks.mean(axis = 1)\n",
    "pd.DataFrame({\n",
    "    'Headline A' : each_row_average,\n",
    "    'Headline B' : each_row_average,\n",
    "    'Headline C' : each_row_average\n",
    "})"
   ]
  },
  {
   "cell_type": "markdown",
   "metadata": {},
   "source": [
    "## 피어슨 잔차 \n",
    "\n",
    "피어슨 잔차는 이렇다.\n",
    "\n",
    "$ R = \\cfrac{관측값 - 기댓값} {\\sqrt{기댓값}} $\n",
    "\n",
    "R은 실제 횟수와 기대한 횟수 사이의 차이를 나타내게 된다.\n",
    "\n",
    "카이제곱통계량은 바로 이 피어슨 잔차들의 제곱합이다.\n",
    "\n",
    "여기서 카이제곱통계량은 1.6666이된다고 나왔는데, (결과상)\n",
    "\n",
    "이값이 귀무가설로부터 얻을 수 있는 값보다 크다고 할 수 있는지 검정한다.\n",
    "\n",
    "순서는 다음과 같다.\n",
    "\n",
    "1. 클릭한 경우1, 클릭하지 않은 경우0 으로 3000 개의 데이터를 만들고\n",
    "2. 잘 섞은 다음 1000개의 표본을 3번씩 가져와서 클릭수를 계산함\n",
    "3. 이렇게 얻은 횟수와 기대한 횟수의 차이를 제곱해서 합산함\n",
    "4. 2-3단계를 반복. (1000 번이라던가)\n",
    "5. 재표본추출을 통해 얻은 편차의 제곱합이 얼마나 자주 관측값을 초과하는가? 했을때, 이 값이 p밸류가 된다.\n",
    "\n",
    "## 카이제곱통계량과 p밸류 구하기\n",
    "\n",
    "카이제곱값을 만드는 것과, 재표본 과정부터 코드를 만든다.\n"
   ]
  },
  {
   "cell_type": "code",
   "execution_count": 24,
   "metadata": {},
   "outputs": [],
   "source": [
    "# box라는 dataset 만들기\n",
    "box = [1] * 34\n",
    "box.extend([0] * 2966)\n",
    "random.shuffle(box)"
   ]
  },
  {
   "cell_type": "code",
   "execution_count": 25,
   "metadata": {},
   "outputs": [],
   "source": [
    "# 카이스퀘어통계량 구하는 함수\n",
    "def chi2(observed, expected):\n",
    "    pearson_residuals = []\n",
    "    for row, expect in zip(observed, expected):\n",
    "        pearson_residuals.append(\n",
    "            [(observe - expect) ** 2 / expect for observe in row])\n",
    "        \n",
    "    # 제곱들의 합 반환\n",
    "    return np.sum(pearson_residuals)"
   ]
  },
  {
   "cell_type": "code",
   "execution_count": 26,
   "metadata": {},
   "outputs": [],
   "source": [
    "# 우리의 expected 등 변수들은 이렇게 만들어져있다.\n",
    "expected_clicks = 34 / 3\n",
    "expected_noclicks = 1000 - expected_clicks\n",
    "expected = [expected_clicks, expected_noclicks]\n",
    "chi2observed = chi2(clicks.values, expected)"
   ]
  },
  {
   "cell_type": "code",
   "execution_count": 31,
   "metadata": {},
   "outputs": [],
   "source": [
    "# 랜덤 추출하여 값을 구하는 것을 반복시행하는 함수\n",
    "# 세 그룹으로 1000개씩 가져온다\n",
    "def perm_fun(box):\n",
    "    # click = 1이니까 sum\n",
    "    sample_clicks = [sum(random.sample(box, 1000)),\n",
    "                    sum(random.sample(box, 1000)),\n",
    "                    sum(random.sample(box, 1000))]\n",
    "    # 1000 - click수, 세번. \n",
    "    sample_noclicks = [1000 - n for n in sample_clicks]\n",
    "    return chi2([sample_clicks, sample_noclicks], expected)"
   ]
  },
  {
   "cell_type": "code",
   "execution_count": 32,
   "metadata": {},
   "outputs": [],
   "source": [
    "# 시행\n",
    "perm_chi2 = [perm_fun(box) for _ in range(2000)]\n",
    "\n",
    "# p-value 구하기. 관측된 값을 넘는 시행들만 가져오기\n",
    "resampled_p_value = sum(perm_chi2 > chi2observed) / len(perm_chi2)"
   ]
  },
  {
   "cell_type": "code",
   "execution_count": 33,
   "metadata": {},
   "outputs": [
    {
     "name": "stdout",
     "output_type": "stream",
     "text": [
      "Observed chi2: 1.6659\n",
      "Resampled p-value: 0.4745\n"
     ]
    }
   ],
   "source": [
    "# 출력\n",
    "print(f'Observed chi2: {chi2observed:.4f}')\n",
    "print(f'Resampled p-value: {resampled_p_value:.4f}')"
   ]
  },
  {
   "cell_type": "markdown",
   "metadata": {},
   "source": [
    "### 결과 및 원본 코드\n",
    "\n",
    "검정 결과는 관찰된 결과가 귀무가설로 부터 얼마든지 얻어질 수 있는 결과임을 보여준다고 한다.\n",
    "\n",
    "0.5 에서 크게 벗어나지 않았기 때문인걸까.\n",
    "\n"
   ]
  },
  {
   "cell_type": "code",
   "execution_count": null,
   "metadata": {},
   "outputs": [],
   "source": [
    "# original code\n",
    "\n",
    "# # Resampling approach\n",
    "# box = [1] * 34\n",
    "# box.extend([0] * 2966)\n",
    "# random.shuffle(box)\n",
    "\n",
    "# def chi2(observed, expected):\n",
    "#     pearson_residuals = []\n",
    "#     for row, expect in zip(observed, expected):\n",
    "#         pearson_residuals.append([(observe - expect) ** 2 / expect\n",
    "#                                   for observe in row])\n",
    "#     # return sum of squares\n",
    "#     return np.sum(pearson_residuals)\n",
    "\n",
    "# expected_clicks = 34 / 3\n",
    "# expected_noclicks = 1000 - expected_clicks\n",
    "# expected = [34 / 3, 1000 - 34 / 3]\n",
    "# chi2observed = chi2(clicks.values, expected)\n",
    "\n",
    "# def perm_fun(box):\n",
    "#     sample_clicks = [sum(random.sample(box, 1000)),\n",
    "#                      sum(random.sample(box, 1000)),\n",
    "#                      sum(random.sample(box, 1000))]\n",
    "#     sample_noclicks = [1000 - n for n in sample_clicks]\n",
    "#     return chi2([sample_clicks, sample_noclicks], expected)\n",
    "\n",
    "# perm_chi2 = [perm_fun(box) for _ in range(2000)]\n",
    "\n",
    "# resampled_p_value = sum(perm_chi2 > chi2observed) / len(perm_chi2)\n",
    "# print(f'Observed chi2: {chi2observed:.4f}')\n",
    "# print(f'Resampled p-value: {resampled_p_value:.4f}')"
   ]
  }
 ],
 "metadata": {
  "kernelspec": {
   "display_name": "Python 3 (ipykernel)",
   "language": "python",
   "name": "python3"
  },
  "language_info": {
   "codemirror_mode": {
    "name": "ipython",
    "version": 3
   },
   "file_extension": ".py",
   "mimetype": "text/x-python",
   "name": "python",
   "nbconvert_exporter": "python",
   "pygments_lexer": "ipython3",
   "version": "3.8.5"
  },
  "toc": {
   "base_numbering": 1,
   "nav_menu": {},
   "number_sections": true,
   "sideBar": true,
   "skip_h1_title": false,
   "title_cell": "Table of Contents",
   "title_sidebar": "Contents",
   "toc_cell": false,
   "toc_position": {},
   "toc_section_display": true,
   "toc_window_display": false
  }
 },
 "nbformat": 4,
 "nbformat_minor": 2
}
