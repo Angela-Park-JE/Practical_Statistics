{
 "cells": [
  {
   "cell_type": "markdown",
   "metadata": {},
   "source": [
    "# CH1. EDA\n"
   ]
  },
  {
   "cell_type": "code",
   "execution_count": 1,
   "metadata": {
    "execution": {
     "iopub.execute_input": "2021-09-02T14:39:49.931441Z",
     "iopub.status.busy": "2021-09-02T14:39:49.930827Z",
     "iopub.status.idle": "2021-09-02T14:39:51.513586Z",
     "shell.execute_reply": "2021-09-02T14:39:51.513066Z"
    }
   },
   "outputs": [],
   "source": [
    "# 라이브러리 불러오기\n",
    "\n",
    "%matplotlib inline\n",
    "\n",
    "from pathlib import Path\n",
    "\n",
    "import pandas as pd\n",
    "import numpy as np\n",
    "from scipy.stats import trim_mean\n",
    "from statsmodels import robust\n",
    "import wquantiles\n",
    "\n",
    "import seaborn as sns\n",
    "import matplotlib.pylab as plt"
   ]
  },
  {
   "cell_type": "markdown",
   "metadata": {},
   "source": [
    "## 데이터 import"
   ]
  },
  {
   "cell_type": "code",
   "execution_count": 2,
   "metadata": {
    "execution": {
     "iopub.execute_input": "2021-09-02T14:39:51.519386Z",
     "iopub.status.busy": "2021-09-02T14:39:51.518303Z",
     "iopub.status.idle": "2021-09-02T14:39:52.126560Z",
     "shell.execute_reply": "2021-09-02T14:39:52.126882Z"
    }
   },
   "outputs": [],
   "source": [
    "try:\n",
    "    import common\n",
    "    DATA = common.dataDirectory()\n",
    "except ImportError:\n",
    "    DATA = Path().resolve() / 'data'"
   ]
  },
  {
   "cell_type": "markdown",
   "metadata": {},
   "source": [
    "Define paths to data sets. If you don't keep your data in the same directory as the code, adapt the path names."
   ]
  },
  {
   "cell_type": "code",
   "execution_count": 4,
   "metadata": {
    "execution": {
     "iopub.execute_input": "2021-09-02T14:39:52.131370Z",
     "iopub.status.busy": "2021-09-02T14:39:52.130900Z",
     "iopub.status.idle": "2021-09-02T14:39:52.133711Z",
     "shell.execute_reply": "2021-09-02T14:39:52.133326Z"
    }
   },
   "outputs": [],
   "source": [
    "AIRLINE_STATS_CSV = DATA / 'airline_stats.csv'\n",
    "KC_TAX_CSV = DATA / 'kc_tax.csv.gz'\n",
    "LC_LOANS_CSV = DATA / 'lc_loans.csv'\n",
    "AIRPORT_DELAYS_CSV = DATA / 'dfw_airline.csv'\n",
    "SP500_DATA_CSV = DATA / 'sp500_data.csv.gz'\n",
    "SP500_SECTORS_CSV = DATA / 'sp500_sectors.csv'\n",
    "STATE_CSV = DATA / 'state.csv'"
   ]
  },
  {
   "cell_type": "markdown",
   "metadata": {},
   "source": [
    "## 1.3.3 예제: 인구에 따른 살인 비율의 위치 추정\n",
    "### 평균과 절사평균, 중앙값"
   ]
  },
  {
   "cell_type": "code",
   "execution_count": 5,
   "metadata": {
    "execution": {
     "iopub.execute_input": "2021-09-02T14:39:52.137292Z",
     "iopub.status.busy": "2021-09-02T14:39:52.136607Z",
     "iopub.status.idle": "2021-09-02T14:39:52.151822Z",
     "shell.execute_reply": "2021-09-02T14:39:52.150887Z"
    },
    "scrolled": true
   },
   "outputs": [
    {
     "name": "stdout",
     "output_type": "stream",
     "text": [
      "         State  Population  Murder.Rate Abbreviation\n",
      "0      Alabama     4779736          5.7           AL\n",
      "1       Alaska      710231          5.6           AK\n",
      "2      Arizona     6392017          4.7           AZ\n",
      "3     Arkansas     2915918          5.6           AR\n",
      "4   California    37253956          4.4           CA\n",
      "5     Colorado     5029196          2.8           CO\n",
      "6  Connecticut     3574097          2.4           CT\n",
      "7     Delaware      897934          5.8           DE\n",
      "8      Florida    18801310          5.8           FL\n",
      "9      Georgia     9687653          5.7           GA\n"
     ]
    }
   ],
   "source": [
    "# 주 별 인구 및 살인 비율을 담고있는 데이터 state.csv\n",
    "# 상위 10 개만 살펴보기\n",
    "\n",
    "state = pd.read_csv(STATE_CSV)\n",
    "print(state.head(10))"
   ]
  },
  {
   "cell_type": "markdown",
   "metadata": {},
   "source": [
    "파이썬에서 평균과 중간값을 계산하기 위해 데이터 프레임을 위한 pandas 와 \n",
    "\n",
    "절사평균 사용을 위해 scipy.stats의 trim_mean 함수를 사용한다.\n",
    "\n",
    "**절사평균 : 값들을 크기순으로 정렬한 수, 양 끝(가장 크거나 가장 작거나)에서 일정 개수의 값들을 삭제한 뒤 남은 값들을 가지고 구한 평균이다. 극단값의 영향을 제거하기 때문에 선호하는경우가 있다.**"
   ]
  },
  {
   "cell_type": "code",
   "execution_count": 6,
   "metadata": {
    "execution": {
     "iopub.execute_input": "2021-09-02T14:39:52.156299Z",
     "iopub.status.busy": "2021-09-02T14:39:52.155846Z",
     "iopub.status.idle": "2021-09-02T14:39:52.162074Z",
     "shell.execute_reply": "2021-09-02T14:39:52.161536Z"
    }
   },
   "outputs": [
    {
     "name": "stdout",
     "output_type": "stream",
     "text": [
      "6162876.3\n"
     ]
    }
   ],
   "source": [
    "# 인구 평균\n",
    "\n",
    "state = pd.read_csv(STATE_CSV)\n",
    "print(state['Population'].mean())"
   ]
  },
  {
   "cell_type": "code",
   "execution_count": 7,
   "metadata": {
    "execution": {
     "iopub.execute_input": "2021-09-02T14:39:52.166031Z",
     "iopub.status.busy": "2021-09-02T14:39:52.165453Z",
     "iopub.status.idle": "2021-09-02T14:39:52.169393Z",
     "shell.execute_reply": "2021-09-02T14:39:52.168837Z"
    }
   },
   "outputs": [
    {
     "name": "stdout",
     "output_type": "stream",
     "text": [
      "4783697.125\n"
     ]
    }
   ],
   "source": [
    "# 인구의 절사 평균\n",
    "\n",
    "print(trim_mean(state['Population'], 0.1))"
   ]
  },
  {
   "cell_type": "code",
   "execution_count": 8,
   "metadata": {
    "execution": {
     "iopub.execute_input": "2021-09-02T14:39:52.173416Z",
     "iopub.status.busy": "2021-09-02T14:39:52.172906Z",
     "iopub.status.idle": "2021-09-02T14:39:52.175943Z",
     "shell.execute_reply": "2021-09-02T14:39:52.175549Z"
    }
   },
   "outputs": [
    {
     "name": "stdout",
     "output_type": "stream",
     "text": [
      "4436369.5\n"
     ]
    }
   ],
   "source": [
    "# 인구의 중앙값\n",
    "\n",
    "print(state['Population'].median())"
   ]
  },
  {
   "cell_type": "markdown",
   "metadata": {},
   "source": [
    "### 가중평균과 가중중간값\n",
    "\n",
    "가중 평균을 구하기 위해 넘파이를 사용.\n",
    "\n",
    "가중 중간값을 구하기 위해서는 wquantiles 라는 패키지를 따로 사용."
   ]
  },
  {
   "cell_type": "code",
   "execution_count": 9,
   "metadata": {
    "execution": {
     "iopub.execute_input": "2021-09-02T14:39:52.179872Z",
     "iopub.status.busy": "2021-09-02T14:39:52.179359Z",
     "iopub.status.idle": "2021-09-02T14:39:52.182283Z",
     "shell.execute_reply": "2021-09-02T14:39:52.181861Z"
    }
   },
   "outputs": [
    {
     "name": "stdout",
     "output_type": "stream",
     "text": [
      "4.066\n"
     ]
    }
   ],
   "source": [
    "# 살인 비율\n",
    "\n",
    "print(state['Murder.Rate'].mean())"
   ]
  },
  {
   "cell_type": "code",
   "execution_count": 10,
   "metadata": {
    "execution": {
     "iopub.execute_input": "2021-09-02T14:39:52.188440Z",
     "iopub.status.busy": "2021-09-02T14:39:52.187888Z",
     "iopub.status.idle": "2021-09-02T14:39:52.191561Z",
     "shell.execute_reply": "2021-09-02T14:39:52.191043Z"
    }
   },
   "outputs": [
    {
     "name": "stdout",
     "output_type": "stream",
     "text": [
      "4.445833981123393\n"
     ]
    }
   ],
   "source": [
    "# 인구에 따른 가중치를 준 살인 비율의 평균 \n",
    "\n",
    "print(np.average(state['Murder.Rate'], weights = state['Population']))"
   ]
  },
  {
   "cell_type": "code",
   "execution_count": 11,
   "metadata": {
    "execution": {
     "iopub.execute_input": "2021-09-02T14:39:52.196008Z",
     "iopub.status.busy": "2021-09-02T14:39:52.195355Z",
     "iopub.status.idle": "2021-09-02T14:39:52.199221Z",
     "shell.execute_reply": "2021-09-02T14:39:52.198783Z"
    },
    "scrolled": true
   },
   "outputs": [
    {
     "name": "stdout",
     "output_type": "stream",
     "text": [
      "4.4\n"
     ]
    }
   ],
   "source": [
    "# 인구에 따른 가중치를 준 살인 비율의 중간값\n",
    "\n",
    "print(wquantiles.median(state['Murder.Rate'], weights = state['Population']))"
   ]
  },
  {
   "cell_type": "markdown",
   "metadata": {},
   "source": [
    "실제로 그냥 mean 을 구했을 때보다 절사평균을 사용하거나, 인구에 따른 가중치를 준 가중 평균 등을 사용했을 때 본래 중간값과 거의 비슷하게 나오는 것을 볼 수 있었다."
   ]
  },
  {
   "cell_type": "markdown",
   "metadata": {},
   "source": [
    "# 변이(variability) 추정"
   ]
  },
  {
   "cell_type": "markdown",
   "metadata": {},
   "source": [
    "같은 주별 인구의 변이 추정값을 구해본다."
   ]
  },
  {
   "cell_type": "code",
   "execution_count": 12,
   "metadata": {
    "execution": {
     "iopub.execute_input": "2021-09-02T14:39:52.204514Z",
     "iopub.status.busy": "2021-09-02T14:39:52.202791Z",
     "iopub.status.idle": "2021-09-02T14:39:52.209599Z",
     "shell.execute_reply": "2021-09-02T14:39:52.209170Z"
    }
   },
   "outputs": [
    {
     "data": {
      "text/html": [
       "<div>\n",
       "<style scoped>\n",
       "    .dataframe tbody tr th:only-of-type {\n",
       "        vertical-align: middle;\n",
       "    }\n",
       "\n",
       "    .dataframe tbody tr th {\n",
       "        vertical-align: top;\n",
       "    }\n",
       "\n",
       "    .dataframe thead th {\n",
       "        text-align: right;\n",
       "    }\n",
       "</style>\n",
       "<table border=\"1\" class=\"dataframe\">\n",
       "  <thead>\n",
       "    <tr style=\"text-align: right;\">\n",
       "      <th></th>\n",
       "      <th>State</th>\n",
       "      <th>Population</th>\n",
       "      <th>Murder.Rate</th>\n",
       "      <th>Abbreviation</th>\n",
       "    </tr>\n",
       "  </thead>\n",
       "  <tbody>\n",
       "    <tr>\n",
       "      <th>0</th>\n",
       "      <td>Alabama</td>\n",
       "      <td>4779736</td>\n",
       "      <td>5.7</td>\n",
       "      <td>AL</td>\n",
       "    </tr>\n",
       "    <tr>\n",
       "      <th>1</th>\n",
       "      <td>Alaska</td>\n",
       "      <td>710231</td>\n",
       "      <td>5.6</td>\n",
       "      <td>AK</td>\n",
       "    </tr>\n",
       "    <tr>\n",
       "      <th>2</th>\n",
       "      <td>Arizona</td>\n",
       "      <td>6392017</td>\n",
       "      <td>4.7</td>\n",
       "      <td>AZ</td>\n",
       "    </tr>\n",
       "    <tr>\n",
       "      <th>3</th>\n",
       "      <td>Arkansas</td>\n",
       "      <td>2915918</td>\n",
       "      <td>5.6</td>\n",
       "      <td>AR</td>\n",
       "    </tr>\n",
       "    <tr>\n",
       "      <th>4</th>\n",
       "      <td>California</td>\n",
       "      <td>37253956</td>\n",
       "      <td>4.4</td>\n",
       "      <td>CA</td>\n",
       "    </tr>\n",
       "  </tbody>\n",
       "</table>\n",
       "</div>"
      ],
      "text/plain": [
       "        State  Population  Murder.Rate Abbreviation\n",
       "0     Alabama     4779736          5.7           AL\n",
       "1      Alaska      710231          5.6           AK\n",
       "2     Arizona     6392017          4.7           AZ\n",
       "3    Arkansas     2915918          5.6           AR\n",
       "4  California    37253956          4.4           CA"
      ]
     },
     "execution_count": 12,
     "metadata": {},
     "output_type": "execute_result"
    }
   ],
   "source": [
    "# 데이터프레임 살펴보기\n",
    "\n",
    "state.head()"
   ]
  },
  {
   "cell_type": "markdown",
   "metadata": {},
   "source": [
    "### 표준편차"
   ]
  },
  {
   "cell_type": "code",
   "execution_count": 13,
   "metadata": {
    "execution": {
     "iopub.execute_input": "2021-09-02T14:39:52.213886Z",
     "iopub.status.busy": "2021-09-02T14:39:52.213403Z",
     "iopub.status.idle": "2021-09-02T14:39:52.216440Z",
     "shell.execute_reply": "2021-09-02T14:39:52.215987Z"
    }
   },
   "outputs": [
    {
     "name": "stdout",
     "output_type": "stream",
     "text": [
      "6848235.347401142\n"
     ]
    }
   ],
   "source": [
    "print(state['Population'].std())"
   ]
  },
  {
   "cell_type": "markdown",
   "metadata": {},
   "source": [
    "### 사분위범위"
   ]
  },
  {
   "cell_type": "code",
   "execution_count": null,
   "metadata": {
    "execution": {
     "iopub.execute_input": "2021-09-02T14:39:52.221905Z",
     "iopub.status.busy": "2021-09-02T14:39:52.221420Z",
     "iopub.status.idle": "2021-09-02T14:39:52.224349Z",
     "shell.execute_reply": "2021-09-02T14:39:52.223782Z"
    }
   },
   "outputs": [],
   "source": [
    "print(state['Population'].quantile(0.75) - state['Population'].quantile(0.25))"
   ]
  },
  {
   "cell_type": "markdown",
   "metadata": {},
   "source": [
    "### 중위절대편차(MAD: statsmodel의 strong.scale.mad 함수 이용)"
   ]
  },
  {
   "cell_type": "markdown",
   "metadata": {},
   "source": [
    "표준편차는 MAD의 거의 두 배가 된다. 표준편차는 특잇값에 민감하기 때문에 그럴 수 있다."
   ]
  },
  {
   "cell_type": "code",
   "execution_count": null,
   "metadata": {
    "execution": {
     "iopub.execute_input": "2021-09-02T14:39:52.230132Z",
     "iopub.status.busy": "2021-09-02T14:39:52.229597Z",
     "iopub.status.idle": "2021-09-02T14:39:52.233652Z",
     "shell.execute_reply": "2021-09-02T14:39:52.231949Z"
    }
   },
   "outputs": [],
   "source": [
    "print(robust.scale.mad(state['Population']))"
   ]
  },
  {
   "cell_type": "markdown",
   "metadata": {},
   "source": [
    "아래의 경우 R에서 MAD의 척도가 평균과 같은 척도를 갖도록 보정되는 과정이다."
   ]
  },
  {
   "cell_type": "code",
   "execution_count": null,
   "metadata": {},
   "outputs": [],
   "source": [
    "print(abs(state['Population'] - state['Population'].median()).median() / 0.6744897501960817)"
   ]
  },
  {
   "cell_type": "markdown",
   "metadata": {},
   "source": [
    "## 백분위수와 박스플롯\n",
    "주별 살인율의 백분위수를 구해본다."
   ]
  },
  {
   "cell_type": "markdown",
   "metadata": {},
   "source": [
    "### 백분위수"
   ]
  },
  {
   "cell_type": "code",
   "execution_count": null,
   "metadata": {
    "execution": {
     "iopub.execute_input": "2021-09-02T14:39:52.239655Z",
     "iopub.status.busy": "2021-09-02T14:39:52.239163Z",
     "iopub.status.idle": "2021-09-02T14:39:52.241598Z",
     "shell.execute_reply": "2021-09-02T14:39:52.241972Z"
    }
   },
   "outputs": [],
   "source": [
    "state['Murder.Rate'].quantile([0.05, 0.25, 0.5,0.75, 0.95])"
   ]
  },
  {
   "cell_type": "markdown",
   "metadata": {},
   "source": [
    "중간값 0.5는 인구의 중간값이 400만명 정도라고 했을 때 살인 비율로, 인구 10만 명당 4건의 살인이 있다는 것을 알 수 있다."
   ]
  },
  {
   "cell_type": "code",
   "execution_count": null,
   "metadata": {
    "execution": {
     "iopub.execute_input": "2021-09-02T14:39:52.250093Z",
     "iopub.status.busy": "2021-09-02T14:39:52.249528Z",
     "iopub.status.idle": "2021-09-02T14:39:52.252455Z",
     "shell.execute_reply": "2021-09-02T14:39:52.251870Z"
    }
   },
   "outputs": [],
   "source": [
    "# 예쁘게 그리기 (원본 주피터노트북 그대로 가져옴)\n",
    "\n",
    "percentages = [0.05, 0.25, 0.5, 0.75, 0.95]\n",
    "df = pd.DataFrame(state['Murder.Rate'].quantile(percentages))\n",
    "df.index = [f'{p * 100}%' for p in percentages]\n",
    "print(df.transpose())     # 가로로 보기 위해 행렬을 전치시켰다!"
   ]
  },
  {
   "cell_type": "markdown",
   "metadata": {},
   "source": [
    "### 박스플롯"
   ]
  },
  {
   "cell_type": "markdown",
   "metadata": {},
   "source": [
    "주별 인구 분포를 나타내는 박스플롯을 그려보자"
   ]
  },
  {
   "cell_type": "code",
   "execution_count": null,
   "metadata": {},
   "outputs": [],
   "source": [
    "sns.boxplot(data=state['Population'])"
   ]
  },
  {
   "cell_type": "markdown",
   "metadata": {},
   "source": [
    "너무 못생겼다. 뀨잉뀨잉.\n",
    "\n",
    "실제로 주어진 코드에서는 이렇게 작성한다."
   ]
  },
  {
   "cell_type": "code",
   "execution_count": null,
   "metadata": {
    "execution": {
     "iopub.execute_input": "2021-09-02T14:39:52.256621Z",
     "iopub.status.busy": "2021-09-02T14:39:52.256123Z",
     "iopub.status.idle": "2021-09-02T14:39:52.445012Z",
     "shell.execute_reply": "2021-09-02T14:39:52.444626Z"
    }
   },
   "outputs": [],
   "source": [
    "ax = (state['Population']/1_000_000).plot.box(figsize=(3, 4))  # 스케일 조정 및 그래프 사이즈 변경\n",
    "ax.set_ylabel('Population (millions)') # 축 레이블\n",
    "\n",
    "plt.tight_layout() \n",
    "plt.show()"
   ]
  },
  {
   "cell_type": "markdown",
   "metadata": {},
   "source": [
    "그래프를 보면\n",
    "\n",
    "중간값이 약 5(500만)에 걸쳐있고 인구수가 극단적으로 높은 이상치가 바로 있음을 알 수 있다. 기본 설정상 휘스커가 사분위수의 1.5배까지만 표시되도록 되어있다.\n",
    "\n",
    "실제로 박스플롯에서 outlier로 표현되는 경우는 최댓값 즉 제 3 사분위수 + (사분위범위Q3-Q1)* 1.5 를 더한 위치를 넘어가거나, 최솟값 즉 제 1사분위수 - IQR * 1.5 한 위치에 닿지 않는 값이다."
   ]
  },
  {
   "cell_type": "markdown",
   "metadata": {},
   "source": [
    "### 각 y값을 가져오기(get_ydata())"
   ]
  },
  {
   "cell_type": "code",
   "execution_count": null,
   "metadata": {},
   "outputs": [],
   "source": [
    "# 각 값의 y값을 가져와보자 (출처: https://blog.naver.com/faithfuljk/222649208086)\n",
    "\n",
    "# fig, ax = plt.subplots()\n",
    "\n",
    "# notch파라미터 True로 하면 중앙값의 95%신뢰 구간을 노치 형태로 표시한다!\n",
    "box = ax.boxplot(state['Population']/1_000_000, notch = True)\n",
    "\n",
    "whiskers = [item.get_ydata() for item in box['whiskers']]\n",
    "print('whiskers:', whiskers)\n",
    "\n",
    "# 각각 Q1,Q3,max,min 값"
   ]
  },
  {
   "cell_type": "code",
   "execution_count": null,
   "metadata": {},
   "outputs": [],
   "source": [
    "medians = [item.get_ydata() for item in box['medians']]\n",
    "print('medians:', medians)\n",
    "\n",
    "# 중앙값에 대한 정보를 갖는 Line2D 인스턴스의 리스트."
   ]
  },
  {
   "cell_type": "code",
   "execution_count": null,
   "metadata": {},
   "outputs": [],
   "source": [
    "fliers = [item.get_ydata() for item in box['fliers']]\n",
    "print('fliers:', fliers)\n",
    "\n",
    "# 수염 범위 밖의 데이터 포인트를 반환한다.\n",
    "# 만약 인구수 말고도 다른 피처들도 함께 했으면 함께 한 만큼 어레이가 여럿 나올 것"
   ]
  },
  {
   "cell_type": "markdown",
   "metadata": {},
   "source": [
    "## 도수분포표와 히스토그램\n",
    "도수분포표는 변수위 범위를 동일한 크기의 구간으로 나눈 다음, 각 구간마다 몇 개의 변수값이 존재하는지 보기 위해 사용된다."
   ]
  },
  {
   "cell_type": "code",
   "execution_count": null,
   "metadata": {
    "execution": {
     "iopub.execute_input": "2021-09-02T14:39:52.454923Z",
     "iopub.status.busy": "2021-09-02T14:39:52.448690Z",
     "iopub.status.idle": "2021-09-02T14:39:52.458432Z",
     "shell.execute_reply": "2021-09-02T14:39:52.459024Z"
    }
   },
   "outputs": [],
   "source": [
    "# 주별 인구의 도수분포표 만들기 with cut, value_counts()\n",
    "\n",
    "\n",
    "\"\"\"\n",
    "pd.cut()은 해당 데이터를 각 구간에 맵핑하는 시리즈를 만든다.\n",
    "10을 줬기 때문에 10개의 구간으로 나눈다.\n",
    "\"\"\"\n",
    "\n",
    "population_bin10 = pd.cut(state['Population'], 10)\n",
    "print(population_bin10.value_counts())"
   ]
  },
  {
   "cell_type": "code",
   "execution_count": null,
   "metadata": {
    "execution": {
     "iopub.execute_input": "2021-09-02T14:39:52.471616Z",
     "iopub.status.busy": "2021-09-02T14:39:52.461422Z",
     "iopub.status.idle": "2021-09-02T14:39:52.476473Z",
     "shell.execute_reply": "2021-09-02T14:39:52.475542Z"
    },
    "scrolled": true
   },
   "outputs": [],
   "source": [
    "# Table 1.5 주 별 인구 도수분포표 만들기\n",
    "\n",
    "population_bin10.name = 'binnedPopulation' \n",
    "df = pd.concat([state, population_bin10], axis=1) # 주와 concat함\n",
    "df = df.sort_values(by='Population') # 인구수 별로 sorting\n",
    "\n",
    "groups = []\n",
    "for group, subset in df.groupby(by='binnedPopulation'):\n",
    "    groups.append({\n",
    "        'BinRange': group,\n",
    "        'Count': len(subset),\n",
    "        'States': ','.join(subset.Abbreviation)\n",
    "    })\n",
    "print(pd.DataFrame(groups))"
   ]
  },
  {
   "cell_type": "markdown",
   "metadata": {},
   "source": [
    "이를 판다스에 있는 매소드로 히스토그램을 그린다. \n",
    "\n",
    "구간 개수를 정의하기 위해 bins를 사용한다."
   ]
  },
  {
   "cell_type": "code",
   "execution_count": null,
   "metadata": {
    "execution": {
     "iopub.execute_input": "2021-09-02T14:39:52.497306Z",
     "iopub.status.busy": "2021-09-02T14:39:52.479878Z",
     "iopub.status.idle": "2021-09-02T14:39:52.607405Z",
     "shell.execute_reply": "2021-09-02T14:39:52.607922Z"
    }
   },
   "outputs": [],
   "source": [
    "ax = (state['Population'] / 1_000_000).plot.hist(figsize=(4, 4)) # 스케일 조정 및 그래프 사이즈\n",
    "ax.set_xlabel('Population (millions)') # 축 레이블\n",
    "\n",
    "plt.tight_layout()\n",
    "plt.show()"
   ]
  },
  {
   "cell_type": "code",
   "execution_count": null,
   "metadata": {
    "scrolled": true
   },
   "outputs": [],
   "source": [
    "# 여기서 살펴보는 이... df의 모습...\n",
    "df"
   ]
  },
  {
   "cell_type": "markdown",
   "metadata": {},
   "source": [
    "히스토그램은 다음과 같은 정보들을 담고 있다.\n",
    "\n",
    "- 그래프에 빈 구간들이 있을 수 있다.\n",
    "- 구간은 동일한 크기를 갖는다.\n",
    "- 구간의 수(혹은 구간의 크기)는 사용자가 결정할 수 있다.\n",
    "- 빈 구간이 있지 않은 이상 막대 사이는 공간 없이 서로 붙어있다."
   ]
  },
  {
   "cell_type": "markdown",
   "metadata": {},
   "source": [
    "## 밀도 추정"
   ]
  },
  {
   "cell_type": "code",
   "execution_count": null,
   "metadata": {},
   "outputs": [],
   "source": []
  }
 ],
 "metadata": {
  "kernelspec": {
   "display_name": "Python 3 (ipykernel)",
   "language": "python",
   "name": "python3"
  },
  "language_info": {
   "codemirror_mode": {
    "name": "ipython",
    "version": 3
   },
   "file_extension": ".py",
   "mimetype": "text/x-python",
   "name": "python",
   "nbconvert_exporter": "python",
   "pygments_lexer": "ipython3",
   "version": "3.8.5"
  },
  "toc": {
   "base_numbering": 1,
   "nav_menu": {},
   "number_sections": true,
   "sideBar": true,
   "skip_h1_title": false,
   "title_cell": "Table of Contents",
   "title_sidebar": "Contents",
   "toc_cell": false,
   "toc_position": {},
   "toc_section_display": true,
   "toc_window_display": false
  }
 },
 "nbformat": 4,
 "nbformat_minor": 2
}
