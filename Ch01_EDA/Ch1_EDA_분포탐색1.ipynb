{
 "cells": [
  {
   "cell_type": "markdown",
   "metadata": {},
   "source": [
    "# CH1. EDA\n"
   ]
  },
  {
   "cell_type": "code",
   "execution_count": 1,
   "metadata": {
    "execution": {
     "iopub.execute_input": "2021-09-02T14:39:49.931441Z",
     "iopub.status.busy": "2021-09-02T14:39:49.930827Z",
     "iopub.status.idle": "2021-09-02T14:39:51.513586Z",
     "shell.execute_reply": "2021-09-02T14:39:51.513066Z"
    }
   },
   "outputs": [],
   "source": [
    "# 라이브러리 불러오기\n",
    "\n",
    "%matplotlib inline\n",
    "\n",
    "from pathlib import Path\n",
    "\n",
    "import pandas as pd\n",
    "import numpy as np\n",
    "from scipy.stats import trim_mean\n",
    "from statsmodels import robust\n",
    "import wquantiles\n",
    "\n",
    "import seaborn as sns\n",
    "import matplotlib.pylab as plt"
   ]
  },
  {
   "cell_type": "markdown",
   "metadata": {},
   "source": [
    "## 데이터 import"
   ]
  },
  {
   "cell_type": "code",
   "execution_count": 2,
   "metadata": {
    "execution": {
     "iopub.execute_input": "2021-09-02T14:39:51.519386Z",
     "iopub.status.busy": "2021-09-02T14:39:51.518303Z",
     "iopub.status.idle": "2021-09-02T14:39:52.126560Z",
     "shell.execute_reply": "2021-09-02T14:39:52.126882Z"
    }
   },
   "outputs": [],
   "source": [
    "try:\n",
    "    import common\n",
    "    DATA = common.dataDirectory()\n",
    "except ImportError:\n",
    "    DATA = Path().resolve() / 'data'"
   ]
  },
  {
   "cell_type": "markdown",
   "metadata": {},
   "source": [
    "Define paths to data sets. If you don't keep your data in the same directory as the code, adapt the path names."
   ]
  },
  {
   "cell_type": "code",
   "execution_count": 3,
   "metadata": {
    "execution": {
     "iopub.execute_input": "2021-09-02T14:39:52.131370Z",
     "iopub.status.busy": "2021-09-02T14:39:52.130900Z",
     "iopub.status.idle": "2021-09-02T14:39:52.133711Z",
     "shell.execute_reply": "2021-09-02T14:39:52.133326Z"
    }
   },
   "outputs": [],
   "source": [
    "AIRLINE_STATS_CSV = DATA / 'airline_stats.csv'\n",
    "KC_TAX_CSV = DATA / 'kc_tax.csv.gz'\n",
    "LC_LOANS_CSV = DATA / 'lc_loans.csv'\n",
    "AIRPORT_DELAYS_CSV = DATA / 'dfw_airline.csv'\n",
    "SP500_DATA_CSV = DATA / 'sp500_data.csv.gz'\n",
    "SP500_SECTORS_CSV = DATA / 'sp500_sectors.csv'\n",
    "STATE_CSV = DATA / 'state.csv'"
   ]
  },
  {
   "cell_type": "markdown",
   "metadata": {},
   "source": [
    "## 1.3.3 예제: 인구에 따른 살인 비율의 위치 추정\n",
    "### 평균과 절사평균, 중앙값"
   ]
  },
  {
   "cell_type": "code",
   "execution_count": 4,
   "metadata": {
    "execution": {
     "iopub.execute_input": "2021-09-02T14:39:52.137292Z",
     "iopub.status.busy": "2021-09-02T14:39:52.136607Z",
     "iopub.status.idle": "2021-09-02T14:39:52.151822Z",
     "shell.execute_reply": "2021-09-02T14:39:52.150887Z"
    },
    "scrolled": true
   },
   "outputs": [
    {
     "name": "stdout",
     "output_type": "stream",
     "text": [
      "         State  Population  Murder.Rate Abbreviation\n",
      "0      Alabama     4779736          5.7           AL\n",
      "1       Alaska      710231          5.6           AK\n",
      "2      Arizona     6392017          4.7           AZ\n",
      "3     Arkansas     2915918          5.6           AR\n",
      "4   California    37253956          4.4           CA\n",
      "5     Colorado     5029196          2.8           CO\n",
      "6  Connecticut     3574097          2.4           CT\n",
      "7     Delaware      897934          5.8           DE\n",
      "8      Florida    18801310          5.8           FL\n",
      "9      Georgia     9687653          5.7           GA\n"
     ]
    }
   ],
   "source": [
    "# 주 별 인구 및 살인 비율을 담고있는 데이터 state.csv\n",
    "# 상위 10 개만 살펴보기\n",
    "\n",
    "state = pd.read_csv(STATE_CSV)\n",
    "print(state.head(10))"
   ]
  },
  {
   "cell_type": "markdown",
   "metadata": {},
   "source": [
    "파이썬에서 평균과 중간값을 계산하기 위해 데이터 프레임을 위한 pandas 와 \n",
    "\n",
    "절사평균 사용을 위해 scipy.stats의 trim_mean 함수를 사용한다.\n",
    "\n",
    "**절사평균 : 값들을 크기순으로 정렬한 수, 양 끝(가장 크거나 가장 작거나)에서 일정 개수의 값들을 삭제한 뒤 남은 값들을 가지고 구한 평균이다. 극단값의 영향을 제거하기 때문에 선호하는경우가 있다.**"
   ]
  },
  {
   "cell_type": "code",
   "execution_count": 5,
   "metadata": {
    "execution": {
     "iopub.execute_input": "2021-09-02T14:39:52.156299Z",
     "iopub.status.busy": "2021-09-02T14:39:52.155846Z",
     "iopub.status.idle": "2021-09-02T14:39:52.162074Z",
     "shell.execute_reply": "2021-09-02T14:39:52.161536Z"
    }
   },
   "outputs": [
    {
     "name": "stdout",
     "output_type": "stream",
     "text": [
      "6162876.3\n"
     ]
    }
   ],
   "source": [
    "# 인구 평균\n",
    "\n",
    "state = pd.read_csv(STATE_CSV)\n",
    "print(state['Population'].mean())"
   ]
  },
  {
   "cell_type": "code",
   "execution_count": 6,
   "metadata": {
    "execution": {
     "iopub.execute_input": "2021-09-02T14:39:52.166031Z",
     "iopub.status.busy": "2021-09-02T14:39:52.165453Z",
     "iopub.status.idle": "2021-09-02T14:39:52.169393Z",
     "shell.execute_reply": "2021-09-02T14:39:52.168837Z"
    }
   },
   "outputs": [
    {
     "name": "stdout",
     "output_type": "stream",
     "text": [
      "4783697.125\n"
     ]
    }
   ],
   "source": [
    "# 인구의 절사 평균\n",
    "\n",
    "print(trim_mean(state['Population'], 0.1))"
   ]
  },
  {
   "cell_type": "code",
   "execution_count": 7,
   "metadata": {
    "execution": {
     "iopub.execute_input": "2021-09-02T14:39:52.173416Z",
     "iopub.status.busy": "2021-09-02T14:39:52.172906Z",
     "iopub.status.idle": "2021-09-02T14:39:52.175943Z",
     "shell.execute_reply": "2021-09-02T14:39:52.175549Z"
    }
   },
   "outputs": [
    {
     "name": "stdout",
     "output_type": "stream",
     "text": [
      "4436369.5\n"
     ]
    }
   ],
   "source": [
    "# 인구의 중앙값\n",
    "\n",
    "print(state['Population'].median())"
   ]
  },
  {
   "cell_type": "markdown",
   "metadata": {},
   "source": [
    "### 가중평균과 가중중간값\n",
    "\n",
    "가중 평균을 구하기 위해 넘파이를 사용.\n",
    "\n",
    "가중 중간값을 구하기 위해서는 wquantiles 라는 패키지를 따로 사용."
   ]
  },
  {
   "cell_type": "code",
   "execution_count": 8,
   "metadata": {
    "execution": {
     "iopub.execute_input": "2021-09-02T14:39:52.179872Z",
     "iopub.status.busy": "2021-09-02T14:39:52.179359Z",
     "iopub.status.idle": "2021-09-02T14:39:52.182283Z",
     "shell.execute_reply": "2021-09-02T14:39:52.181861Z"
    }
   },
   "outputs": [
    {
     "name": "stdout",
     "output_type": "stream",
     "text": [
      "4.066\n"
     ]
    }
   ],
   "source": [
    "# 살인 비율\n",
    "\n",
    "print(state['Murder.Rate'].mean())"
   ]
  },
  {
   "cell_type": "code",
   "execution_count": 9,
   "metadata": {
    "execution": {
     "iopub.execute_input": "2021-09-02T14:39:52.188440Z",
     "iopub.status.busy": "2021-09-02T14:39:52.187888Z",
     "iopub.status.idle": "2021-09-02T14:39:52.191561Z",
     "shell.execute_reply": "2021-09-02T14:39:52.191043Z"
    }
   },
   "outputs": [
    {
     "name": "stdout",
     "output_type": "stream",
     "text": [
      "4.445833981123393\n"
     ]
    }
   ],
   "source": [
    "# 인구에 따른 가중치를 준 살인 비율의 평균 \n",
    "\n",
    "print(np.average(state['Murder.Rate'], weights = state['Population']))"
   ]
  },
  {
   "cell_type": "code",
   "execution_count": 10,
   "metadata": {
    "execution": {
     "iopub.execute_input": "2021-09-02T14:39:52.196008Z",
     "iopub.status.busy": "2021-09-02T14:39:52.195355Z",
     "iopub.status.idle": "2021-09-02T14:39:52.199221Z",
     "shell.execute_reply": "2021-09-02T14:39:52.198783Z"
    },
    "scrolled": true
   },
   "outputs": [
    {
     "name": "stdout",
     "output_type": "stream",
     "text": [
      "4.4\n"
     ]
    }
   ],
   "source": [
    "# 인구에 따른 가중치를 준 살인 비율의 중간값\n",
    "\n",
    "print(wquantiles.median(state['Murder.Rate'], weights = state['Population']))"
   ]
  },
  {
   "cell_type": "markdown",
   "metadata": {},
   "source": [
    "실제로 그냥 mean 을 구했을 때보다 절사평균을 사용하거나, 인구에 따른 가중치를 준 가중 평균 등을 사용했을 때 본래 중간값과 거의 비슷하게 나오는 것을 볼 수 있었다."
   ]
  },
  {
   "cell_type": "markdown",
   "metadata": {},
   "source": [
    "# 변이(variability) 추정"
   ]
  },
  {
   "cell_type": "markdown",
   "metadata": {},
   "source": [
    "## 주별 인구의 변이 추정값"
   ]
  },
  {
   "cell_type": "markdown",
   "metadata": {},
   "source": [
    "같은 주별 인구의 변이 추정값을 구해본다. 데이터의 흩어진 정도를 측정하는 과정이다.\n",
    "\n",
    "> 분산과 표준 편차는 가장 보편적으로 널리 사용되는 변이 측정 방법이다. 이들 모두 특잇값에 민감하다.\n",
    "\n",
    "> 중간값과 백분위수로부터 평균절대편차와 중간값의 중위절대편차를 구하는 것이 좀 더 로버스트하다."
   ]
  },
  {
   "cell_type": "code",
   "execution_count": 11,
   "metadata": {
    "execution": {
     "iopub.execute_input": "2021-09-02T14:39:52.204514Z",
     "iopub.status.busy": "2021-09-02T14:39:52.202791Z",
     "iopub.status.idle": "2021-09-02T14:39:52.209599Z",
     "shell.execute_reply": "2021-09-02T14:39:52.209170Z"
    }
   },
   "outputs": [
    {
     "data": {
      "text/html": [
       "<div>\n",
       "<style scoped>\n",
       "    .dataframe tbody tr th:only-of-type {\n",
       "        vertical-align: middle;\n",
       "    }\n",
       "\n",
       "    .dataframe tbody tr th {\n",
       "        vertical-align: top;\n",
       "    }\n",
       "\n",
       "    .dataframe thead th {\n",
       "        text-align: right;\n",
       "    }\n",
       "</style>\n",
       "<table border=\"1\" class=\"dataframe\">\n",
       "  <thead>\n",
       "    <tr style=\"text-align: right;\">\n",
       "      <th></th>\n",
       "      <th>State</th>\n",
       "      <th>Population</th>\n",
       "      <th>Murder.Rate</th>\n",
       "      <th>Abbreviation</th>\n",
       "    </tr>\n",
       "  </thead>\n",
       "  <tbody>\n",
       "    <tr>\n",
       "      <th>0</th>\n",
       "      <td>Alabama</td>\n",
       "      <td>4779736</td>\n",
       "      <td>5.7</td>\n",
       "      <td>AL</td>\n",
       "    </tr>\n",
       "    <tr>\n",
       "      <th>1</th>\n",
       "      <td>Alaska</td>\n",
       "      <td>710231</td>\n",
       "      <td>5.6</td>\n",
       "      <td>AK</td>\n",
       "    </tr>\n",
       "    <tr>\n",
       "      <th>2</th>\n",
       "      <td>Arizona</td>\n",
       "      <td>6392017</td>\n",
       "      <td>4.7</td>\n",
       "      <td>AZ</td>\n",
       "    </tr>\n",
       "    <tr>\n",
       "      <th>3</th>\n",
       "      <td>Arkansas</td>\n",
       "      <td>2915918</td>\n",
       "      <td>5.6</td>\n",
       "      <td>AR</td>\n",
       "    </tr>\n",
       "    <tr>\n",
       "      <th>4</th>\n",
       "      <td>California</td>\n",
       "      <td>37253956</td>\n",
       "      <td>4.4</td>\n",
       "      <td>CA</td>\n",
       "    </tr>\n",
       "  </tbody>\n",
       "</table>\n",
       "</div>"
      ],
      "text/plain": [
       "        State  Population  Murder.Rate Abbreviation\n",
       "0     Alabama     4779736          5.7           AL\n",
       "1      Alaska      710231          5.6           AK\n",
       "2     Arizona     6392017          4.7           AZ\n",
       "3    Arkansas     2915918          5.6           AR\n",
       "4  California    37253956          4.4           CA"
      ]
     },
     "execution_count": 11,
     "metadata": {},
     "output_type": "execute_result"
    }
   ],
   "source": [
    "# 데이터프레임 살펴보기\n",
    "\n",
    "state.head()"
   ]
  },
  {
   "cell_type": "markdown",
   "metadata": {},
   "source": [
    "### 표준편차\n",
    "\n",
    ".std()"
   ]
  },
  {
   "cell_type": "code",
   "execution_count": 12,
   "metadata": {
    "execution": {
     "iopub.execute_input": "2021-09-02T14:39:52.213886Z",
     "iopub.status.busy": "2021-09-02T14:39:52.213403Z",
     "iopub.status.idle": "2021-09-02T14:39:52.216440Z",
     "shell.execute_reply": "2021-09-02T14:39:52.215987Z"
    }
   },
   "outputs": [
    {
     "name": "stdout",
     "output_type": "stream",
     "text": [
      "6848235.347401142\n"
     ]
    }
   ],
   "source": [
    "print(state['Population'].std())"
   ]
  },
  {
   "cell_type": "markdown",
   "metadata": {},
   "source": [
    "### 사분위범위\n",
    "\n",
    ".quantile(0.75) - .quantile(0.25)"
   ]
  },
  {
   "cell_type": "code",
   "execution_count": 13,
   "metadata": {
    "execution": {
     "iopub.execute_input": "2021-09-02T14:39:52.221905Z",
     "iopub.status.busy": "2021-09-02T14:39:52.221420Z",
     "iopub.status.idle": "2021-09-02T14:39:52.224349Z",
     "shell.execute_reply": "2021-09-02T14:39:52.223782Z"
    }
   },
   "outputs": [
    {
     "name": "stdout",
     "output_type": "stream",
     "text": [
      "4847308.0\n"
     ]
    }
   ],
   "source": [
    "print(state['Population'].quantile(0.75) - state['Population'].quantile(0.25))"
   ]
  },
  {
   "cell_type": "markdown",
   "metadata": {},
   "source": [
    "### 중위절대편차(MAD: statsmodel의 strong.scale.mad 함수 이용)"
   ]
  },
  {
   "cell_type": "markdown",
   "metadata": {},
   "source": [
    "표준편차는 MAD의 거의 두 배가 된다. 표준편차는 특잇값에 민감하기 때문에 그럴 수 있다.\n",
    "\n",
    "(R에서는 기본적으로 MAD의 척도가 평균과 같은 척도를 갖도록 보정된다.)"
   ]
  },
  {
   "cell_type": "code",
   "execution_count": 14,
   "metadata": {
    "execution": {
     "iopub.execute_input": "2021-09-02T14:39:52.230132Z",
     "iopub.status.busy": "2021-09-02T14:39:52.229597Z",
     "iopub.status.idle": "2021-09-02T14:39:52.233652Z",
     "shell.execute_reply": "2021-09-02T14:39:52.231949Z"
    }
   },
   "outputs": [
    {
     "name": "stdout",
     "output_type": "stream",
     "text": [
      "3849876.1459979336\n"
     ]
    }
   ],
   "source": [
    "# 중위절대편차 구하기\n",
    "\n",
    "print(robust.scale.mad(state['Population']))"
   ]
  },
  {
   "cell_type": "markdown",
   "metadata": {},
   "source": [
    "아래의 경우 R에서 MAD의 척도가 평균과 같은 척도를 갖도록 보정되는 과정을 그대로 쓴 것이다."
   ]
  },
  {
   "cell_type": "code",
   "execution_count": 15,
   "metadata": {},
   "outputs": [
    {
     "name": "stdout",
     "output_type": "stream",
     "text": [
      "3849876.1459979336\n"
     ]
    }
   ],
   "source": [
    "print(abs(state['Population'] - state['Population'].median()).median() / 0.6744897501960817)"
   ]
  },
  {
   "cell_type": "markdown",
   "metadata": {},
   "source": [
    "# 데이터 분포 탐색하기\n",
    "\n",
    "위까지 본 것들은 데이터의 위치 혹은 변이를 나타내기 위한 하나의 수치로 데이터를 요약해 보았다.\n",
    "\n",
    "이와 함께 데이터가 전반적으로 어떻게 분포하고 있는 지를 알아보는 것도 유용하다. (p.38~)\n",
    "\n",
    "> 박스플롯(boxplot): 데이터의 분포를 시각화하기 위한 간단한 방법으로 튜키가 소개한 그림(box-whisker plot).\n",
    "\n",
    "> 도수분포표(frequency table): 어떤 구간(interval, bin 등)에 해당하는 수치 데이터 값들의 빈도를 나타내는 기록.\n",
    "\n",
    "> 히스토그램(histogram): x축에 구간들을, y축에 빈도수를 나타내는 도수 테이블. 시각적으로 비슷하지만 막대 그래프와 히스토그램을 혼동하지 않도록.\n",
    "\n",
    "> 밀도 그림(density plot): 히스토그램을 부드러운 곡선으로 나타낸 그림. 커널밀도추정(kernel density estimation)을 주로 사용."
   ]
  },
  {
   "cell_type": "markdown",
   "metadata": {},
   "source": [
    "## 백분위수와 박스플롯\n",
    "\n",
    "주별 살인율의 백분위수를 구해본다."
   ]
  },
  {
   "cell_type": "markdown",
   "metadata": {},
   "source": [
    "### 백분위수\n",
    "\n",
    "전체 분포를 알아보는 데에도 백분위수가 유용한데, 주로 사분위수나 십분위수(decile)를 공식적으로 사용한다. \n",
    "\n",
    "특히 백분위수는 분포의 tail 부분(외측 범위)을 묘사하는데 적합하다."
   ]
  },
  {
   "cell_type": "code",
   "execution_count": 16,
   "metadata": {
    "execution": {
     "iopub.execute_input": "2021-09-02T14:39:52.239655Z",
     "iopub.status.busy": "2021-09-02T14:39:52.239163Z",
     "iopub.status.idle": "2021-09-02T14:39:52.241598Z",
     "shell.execute_reply": "2021-09-02T14:39:52.241972Z"
    }
   },
   "outputs": [
    {
     "data": {
      "text/plain": [
       "0.05    1.600\n",
       "0.25    2.425\n",
       "0.50    4.000\n",
       "0.75    5.550\n",
       "0.95    6.510\n",
       "Name: Murder.Rate, dtype: float64"
      ]
     },
     "execution_count": 16,
     "metadata": {},
     "output_type": "execute_result"
    }
   ],
   "source": [
    "state['Murder.Rate'].quantile([0.05, 0.25, 0.5,0.75, 0.95])"
   ]
  },
  {
   "cell_type": "code",
   "execution_count": 17,
   "metadata": {},
   "outputs": [
    {
     "data": {
      "text/plain": [
       "4.0"
      ]
     },
     "execution_count": 17,
     "metadata": {},
     "output_type": "execute_result"
    }
   ],
   "source": [
    "# 이렇게만 쓰면 옵션의 기본값으로 0.5 일 때만 나온다.\n",
    "\n",
    "state['Murder.Rate'].quantile()"
   ]
  },
  {
   "cell_type": "markdown",
   "metadata": {},
   "source": [
    "중간값 0.5는 인구의 중간값이 400만명 정도라고 했을 때 살인 비율로, 인구 10만 명당 4건의 살인이 있다는 것을 의미한다."
   ]
  },
  {
   "cell_type": "code",
   "execution_count": 18,
   "metadata": {
    "execution": {
     "iopub.execute_input": "2021-09-02T14:39:52.250093Z",
     "iopub.status.busy": "2021-09-02T14:39:52.249528Z",
     "iopub.status.idle": "2021-09-02T14:39:52.252455Z",
     "shell.execute_reply": "2021-09-02T14:39:52.251870Z"
    }
   },
   "outputs": [
    {
     "name": "stdout",
     "output_type": "stream",
     "text": [
      "             5.0%  25.0%  50.0%  75.0%  95.0%\n",
      "Murder.Rate   1.6  2.425    4.0   5.55   6.51\n"
     ]
    }
   ],
   "source": [
    "# 예쁘게 그리기 (원본 주피터노트북 그대로 가져옴)\n",
    "\n",
    "percentages = [0.05, 0.25, 0.5, 0.75, 0.95]                    # 백분위수 리스트업\n",
    "df = pd.DataFrame(state['Murder.Rate'].quantile(percentages))\n",
    "df.index = [f'{p * 100}%' for p in percentages]                # 표형태 만들기\n",
    "print(df.transpose())                                          # 가로로 보기 위해 행렬을 전치시켰다!"
   ]
  },
  {
   "cell_type": "markdown",
   "metadata": {},
   "source": [
    "### 박스플롯"
   ]
  },
  {
   "cell_type": "markdown",
   "metadata": {},
   "source": [
    "주별 인구 분포를 나타내는 박스플롯을 그려보자"
   ]
  },
  {
   "cell_type": "code",
   "execution_count": 19,
   "metadata": {},
   "outputs": [
    {
     "data": {
      "text/plain": [
       "<AxesSubplot:>"
      ]
     },
     "execution_count": 19,
     "metadata": {},
     "output_type": "execute_result"
    },
    {
     "data": {
      "image/png": "[encoded data removed]",
      "text/plain": [
       "<Figure size 432x288 with 1 Axes>"
      ]
     },
     "metadata": {
      "needs_background": "light"
     },
     "output_type": "display_data"
    }
   ],
   "source": [
    "sns.boxplot(data=state['Population'])"
   ]
  },
  {
   "cell_type": "markdown",
   "metadata": {},
   "source": [
    "너무 못생겼다. 뀨잉뀨잉.\n",
    "\n",
    "실제로 주어진 코드에서는 이렇게 작성한다."
   ]
  },
  {
   "cell_type": "code",
   "execution_count": 20,
   "metadata": {
    "execution": {
     "iopub.execute_input": "2021-09-02T14:39:52.256621Z",
     "iopub.status.busy": "2021-09-02T14:39:52.256123Z",
     "iopub.status.idle": "2021-09-02T14:39:52.445012Z",
     "shell.execute_reply": "2021-09-02T14:39:52.444626Z"
    }
   },
   "outputs": [
    {
     "data": {
      "image/png": "[encoded data removed]",
      "text/plain": [
       "<Figure size 216x288 with 1 Axes>"
      ]
     },
     "metadata": {
      "needs_background": "light"
     },
     "output_type": "display_data"
    }
   ],
   "source": [
    "ax = (state['Population']/1_000_000).plot.box(figsize=(3, 4))  # 스케일 조정 및 그래프 사이즈 변경\n",
    "ax.set_ylabel('Population (millions)')                         # 축 레이블\n",
    "\n",
    "plt.tight_layout() \n",
    "plt.show()"
   ]
  },
  {
   "cell_type": "markdown",
   "metadata": {},
   "source": [
    "그래프를 보면\n",
    "\n",
    "중간값이 약 5(500만)에 걸쳐있고 인구수가 극단적으로 높은 특잇값이 바로 있음을 알 수 있다. 기본 설정상 휘스커가 사분위수의 1.5배까지만 표시되도록 되어있다.\n",
    "\n",
    "실제로 박스플롯에서 outlier로 표현되는 경우는 최댓값 즉 제 3 사분위수 + (사분위범위Q3-Q1)* 1.5 를 더한 위치를 넘어가거나, 최솟값 즉 제 1사분위수 - IQR * 1.5 한 위치에 닿지 않는 값이다.\n",
    "\n",
    "박스플롯도 다양한 형태가 있다고 한다. \n",
    "\n",
    "##### 특잇값의 값이 궁금하니 가져와보자."
   ]
  },
  {
   "cell_type": "markdown",
   "metadata": {},
   "source": [
    "### 각 y값을 가져오기(get_ydata())"
   ]
  },
  {
   "cell_type": "code",
   "execution_count": 21,
   "metadata": {},
   "outputs": [
    {
     "name": "stdout",
     "output_type": "stream",
     "text": [
      "whiskers: [array([1.83300425, 0.563626  ]), array([ 6.68031225, 12.830632  ])]\n"
     ]
    }
   ],
   "source": [
    "# 각 값의 y값을 가져와보자 (출처: https://blog.naver.com/faithfuljk/222649208086)\n",
    "\n",
    "# fig, ax = plt.subplots()\n",
    "\n",
    "# notch파라미터 True로 하면 중앙값의 95%신뢰 구간을 노치 형태로 표시한다!\n",
    "box = ax.boxplot(state['Population']/1_000_000, notch = True)\n",
    "\n",
    "whiskers = [item.get_ydata() for item in box['whiskers']]\n",
    "print('whiskers:', whiskers)\n",
    "\n",
    "# 각각 Q1,Q3,max,min 값이 출력된다."
   ]
  },
  {
   "cell_type": "code",
   "execution_count": 22,
   "metadata": {},
   "outputs": [
    {
     "name": "stdout",
     "output_type": "stream",
     "text": [
      "medians: [array([4.4363695, 4.4363695])]\n"
     ]
    }
   ],
   "source": [
    "medians = [item.get_ydata() for item in box['medians']]\n",
    "print('medians:', medians)\n",
    "\n",
    "# 중앙값에 대한 정보를 갖는 Line2D 인스턴스의 리스트가 출력된다."
   ]
  },
  {
   "cell_type": "code",
   "execution_count": 23,
   "metadata": {},
   "outputs": [
    {
     "name": "stdout",
     "output_type": "stream",
     "text": [
      "fliers: [array([37.253956, 18.80131 , 19.378102, 25.145561])]\n"
     ]
    }
   ],
   "source": [
    "fliers = [item.get_ydata() for item in box['fliers']]\n",
    "print('fliers:', fliers)\n",
    "\n",
    "# 수염 범위 밖의 데이터 포인트를 반환한다.\n",
    "# 만약 인구수 말고도 다른 피처들도 함께 했으면 함께 한 만큼 어레이가 여럿 나올 것이다."
   ]
  },
  {
   "cell_type": "markdown",
   "metadata": {},
   "source": [
    "## 도수분포표와 히스토그램\n",
    "도수분포표는 변수위 범위를 동일한 크기의 구간으로 나눈 다음, 각 구간마다 몇 개의 변수값이 존재하는지 보기 위해 사용된다."
   ]
  },
  {
   "cell_type": "markdown",
   "metadata": {},
   "source": [
    "### 도수분포표\n",
    "\n",
    "도수분포표와 백분위수 모두 구간을 나눠서 데이터를 살펴보는 접근 방법이다.\n",
    "\n",
    "일반적으로 사분위수와 십분위수는 각 구간에 같은 수의 데이터가 포함되도록, 즉 서로 크기가 다르게 구간을 나누게 된다.\n",
    "\n",
    "반면에 도수분포표는 구간의 크기가 같도록, 즉 구간 안에 서로 다른 개수의 데이터가 오도록 나누게 된다."
   ]
  },
  {
   "cell_type": "code",
   "execution_count": 24,
   "metadata": {
    "execution": {
     "iopub.execute_input": "2021-09-02T14:39:52.454923Z",
     "iopub.status.busy": "2021-09-02T14:39:52.448690Z",
     "iopub.status.idle": "2021-09-02T14:39:52.458432Z",
     "shell.execute_reply": "2021-09-02T14:39:52.459024Z"
    }
   },
   "outputs": [
    {
     "name": "stdout",
     "output_type": "stream",
     "text": [
      "(526935.67, 4232659.0]      24\n",
      "(4232659.0, 7901692.0]      14\n",
      "(7901692.0, 11570725.0]      6\n",
      "(11570725.0, 15239758.0]     2\n",
      "(15239758.0, 18908791.0]     1\n",
      "(18908791.0, 22577824.0]     1\n",
      "(22577824.0, 26246857.0]     1\n",
      "(33584923.0, 37253956.0]     1\n",
      "(26246857.0, 29915890.0]     0\n",
      "(29915890.0, 33584923.0]     0\n",
      "Name: Population, dtype: int64\n"
     ]
    }
   ],
   "source": [
    "# 주별 인구의 도수분포표 만들기 with cut, value_counts()\n",
    "\n",
    "\n",
    "\"\"\"\n",
    "pd.cut()은 해당 데이터를 각 구간에 맵핑하는 시리즈를 만든다.\n",
    "10을 줬기 때문에 10개의 구간으로 나눈다.\n",
    "\"\"\"\n",
    "\n",
    "population_bin10 = pd.cut(state['Population'], 10)\n",
    "print(population_bin10.value_counts())"
   ]
  },
  {
   "cell_type": "markdown",
   "metadata": {},
   "source": [
    "BinNumber와 States name를 함께 출력하도록 한다."
   ]
  },
  {
   "cell_type": "code",
   "execution_count": 25,
   "metadata": {
    "execution": {
     "iopub.execute_input": "2021-09-02T14:39:52.471616Z",
     "iopub.status.busy": "2021-09-02T14:39:52.461422Z",
     "iopub.status.idle": "2021-09-02T14:39:52.476473Z",
     "shell.execute_reply": "2021-09-02T14:39:52.475542Z"
    },
    "scrolled": true
   },
   "outputs": [
    {
     "name": "stdout",
     "output_type": "stream",
     "text": [
      "                   BinRange  Count  \\\n",
      "0    (526935.67, 4232659.0]     24   \n",
      "1    (4232659.0, 7901692.0]     14   \n",
      "2   (7901692.0, 11570725.0]      6   \n",
      "3  (11570725.0, 15239758.0]      2   \n",
      "4  (15239758.0, 18908791.0]      1   \n",
      "5  (18908791.0, 22577824.0]      1   \n",
      "6  (22577824.0, 26246857.0]      1   \n",
      "7  (26246857.0, 29915890.0]      0   \n",
      "8  (29915890.0, 33584923.0]      0   \n",
      "9  (33584923.0, 37253956.0]      1   \n",
      "\n",
      "                                              States  \n",
      "0  WY,VT,ND,AK,SD,DE,MT,RI,NH,ME,HI,ID,NE,WV,NM,N...  \n",
      "1          KY,LA,SC,AL,CO,MN,WI,MD,MO,TN,AZ,IN,MA,WA  \n",
      "2                                  VA,NJ,NC,GA,MI,OH  \n",
      "3                                              PA,IL  \n",
      "4                                                 FL  \n",
      "5                                                 NY  \n",
      "6                                                 TX  \n",
      "7                                                     \n",
      "8                                                     \n",
      "9                                                 CA  \n"
     ]
    }
   ],
   "source": [
    "# Table 1.5 주 별 인구 도수분포표 만들기\n",
    "\n",
    "population_bin10.name = 'binnedPopulation' \n",
    "df = pd.concat([state, population_bin10], axis=1) # 주와 concat함\n",
    "df = df.sort_values(by='Population') # 인구수 별로 sorting\n",
    "\n",
    "groups = []\n",
    "for group, subset in df.groupby(by='binnedPopulation'):\n",
    "    groups.append({\n",
    "        'BinRange': group,\n",
    "        'Count': len(subset),\n",
    "        'States': ','.join(subset.Abbreviation)\n",
    "    })\n",
    "print(pd.DataFrame(groups))"
   ]
  },
  {
   "cell_type": "markdown",
   "metadata": {},
   "source": [
    "이를 판다스에 있는 매소드로 히스토그램을 그린다. \n",
    "\n",
    "구간 개수를 정의하기 위해 bins를 사용한다."
   ]
  },
  {
   "cell_type": "markdown",
   "metadata": {},
   "source": [
    "### 히스토그램\n",
    "\n",
    "히스토그램은 도수분포표를 시각화하는 방법이다. \n",
    "\n",
    "구간의 개수를 정의하기 위해 bins를 설정해준다."
   ]
  },
  {
   "cell_type": "code",
   "execution_count": 26,
   "metadata": {
    "execution": {
     "iopub.execute_input": "2021-09-02T14:39:52.497306Z",
     "iopub.status.busy": "2021-09-02T14:39:52.479878Z",
     "iopub.status.idle": "2021-09-02T14:39:52.607405Z",
     "shell.execute_reply": "2021-09-02T14:39:52.607922Z"
    }
   },
   "outputs": [
    {
     "data": {
      "image/png": "[encoded data removed]",
      "text/plain": [
       "<Figure size 288x288 with 1 Axes>"
      ]
     },
     "metadata": {
      "needs_background": "light"
     },
     "output_type": "display_data"
    }
   ],
   "source": [
    "ax = (state['Population'] / 1_000_000).plot.hist(figsize=(4, 4)) # 스케일 조정 및 그래프 사이즈\n",
    "ax.set_xlabel('Population (millions)') # 축 레이블\n",
    "\n",
    "plt.tight_layout()\n",
    "plt.show()"
   ]
  },
  {
   "cell_type": "code",
   "execution_count": 27,
   "metadata": {
    "scrolled": true
   },
   "outputs": [
    {
     "data": {
      "text/html": [
       "<div>\n",
       "<style scoped>\n",
       "    .dataframe tbody tr th:only-of-type {\n",
       "        vertical-align: middle;\n",
       "    }\n",
       "\n",
       "    .dataframe tbody tr th {\n",
       "        vertical-align: top;\n",
       "    }\n",
       "\n",
       "    .dataframe thead th {\n",
       "        text-align: right;\n",
       "    }\n",
       "</style>\n",
       "<table border=\"1\" class=\"dataframe\">\n",
       "  <thead>\n",
       "    <tr style=\"text-align: right;\">\n",
       "      <th></th>\n",
       "      <th>State</th>\n",
       "      <th>Population</th>\n",
       "      <th>Murder.Rate</th>\n",
       "      <th>Abbreviation</th>\n",
       "      <th>binnedPopulation</th>\n",
       "    </tr>\n",
       "  </thead>\n",
       "  <tbody>\n",
       "    <tr>\n",
       "      <th>49</th>\n",
       "      <td>Wyoming</td>\n",
       "      <td>563626</td>\n",
       "      <td>2.7</td>\n",
       "      <td>WY</td>\n",
       "      <td>(526935.67, 4232659.0]</td>\n",
       "    </tr>\n",
       "    <tr>\n",
       "      <th>44</th>\n",
       "      <td>Vermont</td>\n",
       "      <td>625741</td>\n",
       "      <td>1.6</td>\n",
       "      <td>VT</td>\n",
       "      <td>(526935.67, 4232659.0]</td>\n",
       "    </tr>\n",
       "    <tr>\n",
       "      <th>33</th>\n",
       "      <td>North Dakota</td>\n",
       "      <td>672591</td>\n",
       "      <td>3.0</td>\n",
       "      <td>ND</td>\n",
       "      <td>(526935.67, 4232659.0]</td>\n",
       "    </tr>\n",
       "    <tr>\n",
       "      <th>1</th>\n",
       "      <td>Alaska</td>\n",
       "      <td>710231</td>\n",
       "      <td>5.6</td>\n",
       "      <td>AK</td>\n",
       "      <td>(526935.67, 4232659.0]</td>\n",
       "    </tr>\n",
       "    <tr>\n",
       "      <th>40</th>\n",
       "      <td>South Dakota</td>\n",
       "      <td>814180</td>\n",
       "      <td>2.3</td>\n",
       "      <td>SD</td>\n",
       "      <td>(526935.67, 4232659.0]</td>\n",
       "    </tr>\n",
       "    <tr>\n",
       "      <th>7</th>\n",
       "      <td>Delaware</td>\n",
       "      <td>897934</td>\n",
       "      <td>5.8</td>\n",
       "      <td>DE</td>\n",
       "      <td>(526935.67, 4232659.0]</td>\n",
       "    </tr>\n",
       "    <tr>\n",
       "      <th>25</th>\n",
       "      <td>Montana</td>\n",
       "      <td>989415</td>\n",
       "      <td>3.6</td>\n",
       "      <td>MT</td>\n",
       "      <td>(526935.67, 4232659.0]</td>\n",
       "    </tr>\n",
       "    <tr>\n",
       "      <th>38</th>\n",
       "      <td>Rhode Island</td>\n",
       "      <td>1052567</td>\n",
       "      <td>2.4</td>\n",
       "      <td>RI</td>\n",
       "      <td>(526935.67, 4232659.0]</td>\n",
       "    </tr>\n",
       "    <tr>\n",
       "      <th>28</th>\n",
       "      <td>New Hampshire</td>\n",
       "      <td>1316470</td>\n",
       "      <td>0.9</td>\n",
       "      <td>NH</td>\n",
       "      <td>(526935.67, 4232659.0]</td>\n",
       "    </tr>\n",
       "    <tr>\n",
       "      <th>18</th>\n",
       "      <td>Maine</td>\n",
       "      <td>1328361</td>\n",
       "      <td>1.6</td>\n",
       "      <td>ME</td>\n",
       "      <td>(526935.67, 4232659.0]</td>\n",
       "    </tr>\n",
       "    <tr>\n",
       "      <th>10</th>\n",
       "      <td>Hawaii</td>\n",
       "      <td>1360301</td>\n",
       "      <td>1.8</td>\n",
       "      <td>HI</td>\n",
       "      <td>(526935.67, 4232659.0]</td>\n",
       "    </tr>\n",
       "    <tr>\n",
       "      <th>11</th>\n",
       "      <td>Idaho</td>\n",
       "      <td>1567582</td>\n",
       "      <td>2.0</td>\n",
       "      <td>ID</td>\n",
       "      <td>(526935.67, 4232659.0]</td>\n",
       "    </tr>\n",
       "    <tr>\n",
       "      <th>26</th>\n",
       "      <td>Nebraska</td>\n",
       "      <td>1826341</td>\n",
       "      <td>2.9</td>\n",
       "      <td>NE</td>\n",
       "      <td>(526935.67, 4232659.0]</td>\n",
       "    </tr>\n",
       "    <tr>\n",
       "      <th>47</th>\n",
       "      <td>West Virginia</td>\n",
       "      <td>1852994</td>\n",
       "      <td>4.0</td>\n",
       "      <td>WV</td>\n",
       "      <td>(526935.67, 4232659.0]</td>\n",
       "    </tr>\n",
       "    <tr>\n",
       "      <th>30</th>\n",
       "      <td>New Mexico</td>\n",
       "      <td>2059179</td>\n",
       "      <td>4.8</td>\n",
       "      <td>NM</td>\n",
       "      <td>(526935.67, 4232659.0]</td>\n",
       "    </tr>\n",
       "    <tr>\n",
       "      <th>27</th>\n",
       "      <td>Nevada</td>\n",
       "      <td>2700551</td>\n",
       "      <td>6.0</td>\n",
       "      <td>NV</td>\n",
       "      <td>(526935.67, 4232659.0]</td>\n",
       "    </tr>\n",
       "    <tr>\n",
       "      <th>43</th>\n",
       "      <td>Utah</td>\n",
       "      <td>2763885</td>\n",
       "      <td>2.3</td>\n",
       "      <td>UT</td>\n",
       "      <td>(526935.67, 4232659.0]</td>\n",
       "    </tr>\n",
       "    <tr>\n",
       "      <th>15</th>\n",
       "      <td>Kansas</td>\n",
       "      <td>2853118</td>\n",
       "      <td>3.1</td>\n",
       "      <td>KS</td>\n",
       "      <td>(526935.67, 4232659.0]</td>\n",
       "    </tr>\n",
       "    <tr>\n",
       "      <th>3</th>\n",
       "      <td>Arkansas</td>\n",
       "      <td>2915918</td>\n",
       "      <td>5.6</td>\n",
       "      <td>AR</td>\n",
       "      <td>(526935.67, 4232659.0]</td>\n",
       "    </tr>\n",
       "    <tr>\n",
       "      <th>23</th>\n",
       "      <td>Mississippi</td>\n",
       "      <td>2967297</td>\n",
       "      <td>8.6</td>\n",
       "      <td>MS</td>\n",
       "      <td>(526935.67, 4232659.0]</td>\n",
       "    </tr>\n",
       "    <tr>\n",
       "      <th>14</th>\n",
       "      <td>Iowa</td>\n",
       "      <td>3046355</td>\n",
       "      <td>1.9</td>\n",
       "      <td>IA</td>\n",
       "      <td>(526935.67, 4232659.0]</td>\n",
       "    </tr>\n",
       "    <tr>\n",
       "      <th>6</th>\n",
       "      <td>Connecticut</td>\n",
       "      <td>3574097</td>\n",
       "      <td>2.4</td>\n",
       "      <td>CT</td>\n",
       "      <td>(526935.67, 4232659.0]</td>\n",
       "    </tr>\n",
       "    <tr>\n",
       "      <th>35</th>\n",
       "      <td>Oklahoma</td>\n",
       "      <td>3751351</td>\n",
       "      <td>4.5</td>\n",
       "      <td>OK</td>\n",
       "      <td>(526935.67, 4232659.0]</td>\n",
       "    </tr>\n",
       "    <tr>\n",
       "      <th>36</th>\n",
       "      <td>Oregon</td>\n",
       "      <td>3831074</td>\n",
       "      <td>2.0</td>\n",
       "      <td>OR</td>\n",
       "      <td>(526935.67, 4232659.0]</td>\n",
       "    </tr>\n",
       "    <tr>\n",
       "      <th>16</th>\n",
       "      <td>Kentucky</td>\n",
       "      <td>4339367</td>\n",
       "      <td>3.6</td>\n",
       "      <td>KY</td>\n",
       "      <td>(4232659.0, 7901692.0]</td>\n",
       "    </tr>\n",
       "    <tr>\n",
       "      <th>17</th>\n",
       "      <td>Louisiana</td>\n",
       "      <td>4533372</td>\n",
       "      <td>10.3</td>\n",
       "      <td>LA</td>\n",
       "      <td>(4232659.0, 7901692.0]</td>\n",
       "    </tr>\n",
       "    <tr>\n",
       "      <th>39</th>\n",
       "      <td>South Carolina</td>\n",
       "      <td>4625364</td>\n",
       "      <td>6.4</td>\n",
       "      <td>SC</td>\n",
       "      <td>(4232659.0, 7901692.0]</td>\n",
       "    </tr>\n",
       "    <tr>\n",
       "      <th>0</th>\n",
       "      <td>Alabama</td>\n",
       "      <td>4779736</td>\n",
       "      <td>5.7</td>\n",
       "      <td>AL</td>\n",
       "      <td>(4232659.0, 7901692.0]</td>\n",
       "    </tr>\n",
       "    <tr>\n",
       "      <th>5</th>\n",
       "      <td>Colorado</td>\n",
       "      <td>5029196</td>\n",
       "      <td>2.8</td>\n",
       "      <td>CO</td>\n",
       "      <td>(4232659.0, 7901692.0]</td>\n",
       "    </tr>\n",
       "    <tr>\n",
       "      <th>22</th>\n",
       "      <td>Minnesota</td>\n",
       "      <td>5303925</td>\n",
       "      <td>1.6</td>\n",
       "      <td>MN</td>\n",
       "      <td>(4232659.0, 7901692.0]</td>\n",
       "    </tr>\n",
       "    <tr>\n",
       "      <th>48</th>\n",
       "      <td>Wisconsin</td>\n",
       "      <td>5686986</td>\n",
       "      <td>2.9</td>\n",
       "      <td>WI</td>\n",
       "      <td>(4232659.0, 7901692.0]</td>\n",
       "    </tr>\n",
       "    <tr>\n",
       "      <th>19</th>\n",
       "      <td>Maryland</td>\n",
       "      <td>5773552</td>\n",
       "      <td>6.1</td>\n",
       "      <td>MD</td>\n",
       "      <td>(4232659.0, 7901692.0]</td>\n",
       "    </tr>\n",
       "    <tr>\n",
       "      <th>24</th>\n",
       "      <td>Missouri</td>\n",
       "      <td>5988927</td>\n",
       "      <td>6.6</td>\n",
       "      <td>MO</td>\n",
       "      <td>(4232659.0, 7901692.0]</td>\n",
       "    </tr>\n",
       "    <tr>\n",
       "      <th>41</th>\n",
       "      <td>Tennessee</td>\n",
       "      <td>6346105</td>\n",
       "      <td>5.7</td>\n",
       "      <td>TN</td>\n",
       "      <td>(4232659.0, 7901692.0]</td>\n",
       "    </tr>\n",
       "    <tr>\n",
       "      <th>2</th>\n",
       "      <td>Arizona</td>\n",
       "      <td>6392017</td>\n",
       "      <td>4.7</td>\n",
       "      <td>AZ</td>\n",
       "      <td>(4232659.0, 7901692.0]</td>\n",
       "    </tr>\n",
       "    <tr>\n",
       "      <th>13</th>\n",
       "      <td>Indiana</td>\n",
       "      <td>6483802</td>\n",
       "      <td>5.0</td>\n",
       "      <td>IN</td>\n",
       "      <td>(4232659.0, 7901692.0]</td>\n",
       "    </tr>\n",
       "    <tr>\n",
       "      <th>20</th>\n",
       "      <td>Massachusetts</td>\n",
       "      <td>6547629</td>\n",
       "      <td>2.0</td>\n",
       "      <td>MA</td>\n",
       "      <td>(4232659.0, 7901692.0]</td>\n",
       "    </tr>\n",
       "    <tr>\n",
       "      <th>46</th>\n",
       "      <td>Washington</td>\n",
       "      <td>6724540</td>\n",
       "      <td>2.5</td>\n",
       "      <td>WA</td>\n",
       "      <td>(4232659.0, 7901692.0]</td>\n",
       "    </tr>\n",
       "    <tr>\n",
       "      <th>45</th>\n",
       "      <td>Virginia</td>\n",
       "      <td>8001024</td>\n",
       "      <td>4.1</td>\n",
       "      <td>VA</td>\n",
       "      <td>(7901692.0, 11570725.0]</td>\n",
       "    </tr>\n",
       "    <tr>\n",
       "      <th>29</th>\n",
       "      <td>New Jersey</td>\n",
       "      <td>8791894</td>\n",
       "      <td>3.9</td>\n",
       "      <td>NJ</td>\n",
       "      <td>(7901692.0, 11570725.0]</td>\n",
       "    </tr>\n",
       "    <tr>\n",
       "      <th>32</th>\n",
       "      <td>North Carolina</td>\n",
       "      <td>9535483</td>\n",
       "      <td>5.1</td>\n",
       "      <td>NC</td>\n",
       "      <td>(7901692.0, 11570725.0]</td>\n",
       "    </tr>\n",
       "    <tr>\n",
       "      <th>9</th>\n",
       "      <td>Georgia</td>\n",
       "      <td>9687653</td>\n",
       "      <td>5.7</td>\n",
       "      <td>GA</td>\n",
       "      <td>(7901692.0, 11570725.0]</td>\n",
       "    </tr>\n",
       "    <tr>\n",
       "      <th>21</th>\n",
       "      <td>Michigan</td>\n",
       "      <td>9883640</td>\n",
       "      <td>5.4</td>\n",
       "      <td>MI</td>\n",
       "      <td>(7901692.0, 11570725.0]</td>\n",
       "    </tr>\n",
       "    <tr>\n",
       "      <th>34</th>\n",
       "      <td>Ohio</td>\n",
       "      <td>11536504</td>\n",
       "      <td>4.0</td>\n",
       "      <td>OH</td>\n",
       "      <td>(7901692.0, 11570725.0]</td>\n",
       "    </tr>\n",
       "    <tr>\n",
       "      <th>37</th>\n",
       "      <td>Pennsylvania</td>\n",
       "      <td>12702379</td>\n",
       "      <td>4.8</td>\n",
       "      <td>PA</td>\n",
       "      <td>(11570725.0, 15239758.0]</td>\n",
       "    </tr>\n",
       "    <tr>\n",
       "      <th>12</th>\n",
       "      <td>Illinois</td>\n",
       "      <td>12830632</td>\n",
       "      <td>5.3</td>\n",
       "      <td>IL</td>\n",
       "      <td>(11570725.0, 15239758.0]</td>\n",
       "    </tr>\n",
       "    <tr>\n",
       "      <th>8</th>\n",
       "      <td>Florida</td>\n",
       "      <td>18801310</td>\n",
       "      <td>5.8</td>\n",
       "      <td>FL</td>\n",
       "      <td>(15239758.0, 18908791.0]</td>\n",
       "    </tr>\n",
       "    <tr>\n",
       "      <th>31</th>\n",
       "      <td>New York</td>\n",
       "      <td>19378102</td>\n",
       "      <td>3.1</td>\n",
       "      <td>NY</td>\n",
       "      <td>(18908791.0, 22577824.0]</td>\n",
       "    </tr>\n",
       "    <tr>\n",
       "      <th>42</th>\n",
       "      <td>Texas</td>\n",
       "      <td>25145561</td>\n",
       "      <td>4.4</td>\n",
       "      <td>TX</td>\n",
       "      <td>(22577824.0, 26246857.0]</td>\n",
       "    </tr>\n",
       "    <tr>\n",
       "      <th>4</th>\n",
       "      <td>California</td>\n",
       "      <td>37253956</td>\n",
       "      <td>4.4</td>\n",
       "      <td>CA</td>\n",
       "      <td>(33584923.0, 37253956.0]</td>\n",
       "    </tr>\n",
       "  </tbody>\n",
       "</table>\n",
       "</div>"
      ],
      "text/plain": [
       "             State  Population  Murder.Rate Abbreviation  \\\n",
       "49         Wyoming      563626          2.7           WY   \n",
       "44         Vermont      625741          1.6           VT   \n",
       "33    North Dakota      672591          3.0           ND   \n",
       "1           Alaska      710231          5.6           AK   \n",
       "40    South Dakota      814180          2.3           SD   \n",
       "7         Delaware      897934          5.8           DE   \n",
       "25         Montana      989415          3.6           MT   \n",
       "38    Rhode Island     1052567          2.4           RI   \n",
       "28   New Hampshire     1316470          0.9           NH   \n",
       "18           Maine     1328361          1.6           ME   \n",
       "10          Hawaii     1360301          1.8           HI   \n",
       "11           Idaho     1567582          2.0           ID   \n",
       "26        Nebraska     1826341          2.9           NE   \n",
       "47   West Virginia     1852994          4.0           WV   \n",
       "30      New Mexico     2059179          4.8           NM   \n",
       "27          Nevada     2700551          6.0           NV   \n",
       "43            Utah     2763885          2.3           UT   \n",
       "15          Kansas     2853118          3.1           KS   \n",
       "3         Arkansas     2915918          5.6           AR   \n",
       "23     Mississippi     2967297          8.6           MS   \n",
       "14            Iowa     3046355          1.9           IA   \n",
       "6      Connecticut     3574097          2.4           CT   \n",
       "35        Oklahoma     3751351          4.5           OK   \n",
       "36          Oregon     3831074          2.0           OR   \n",
       "16        Kentucky     4339367          3.6           KY   \n",
       "17       Louisiana     4533372         10.3           LA   \n",
       "39  South Carolina     4625364          6.4           SC   \n",
       "0          Alabama     4779736          5.7           AL   \n",
       "5         Colorado     5029196          2.8           CO   \n",
       "22       Minnesota     5303925          1.6           MN   \n",
       "48       Wisconsin     5686986          2.9           WI   \n",
       "19        Maryland     5773552          6.1           MD   \n",
       "24        Missouri     5988927          6.6           MO   \n",
       "41       Tennessee     6346105          5.7           TN   \n",
       "2          Arizona     6392017          4.7           AZ   \n",
       "13         Indiana     6483802          5.0           IN   \n",
       "20   Massachusetts     6547629          2.0           MA   \n",
       "46      Washington     6724540          2.5           WA   \n",
       "45        Virginia     8001024          4.1           VA   \n",
       "29      New Jersey     8791894          3.9           NJ   \n",
       "32  North Carolina     9535483          5.1           NC   \n",
       "9          Georgia     9687653          5.7           GA   \n",
       "21        Michigan     9883640          5.4           MI   \n",
       "34            Ohio    11536504          4.0           OH   \n",
       "37    Pennsylvania    12702379          4.8           PA   \n",
       "12        Illinois    12830632          5.3           IL   \n",
       "8          Florida    18801310          5.8           FL   \n",
       "31        New York    19378102          3.1           NY   \n",
       "42           Texas    25145561          4.4           TX   \n",
       "4       California    37253956          4.4           CA   \n",
       "\n",
       "            binnedPopulation  \n",
       "49    (526935.67, 4232659.0]  \n",
       "44    (526935.67, 4232659.0]  \n",
       "33    (526935.67, 4232659.0]  \n",
       "1     (526935.67, 4232659.0]  \n",
       "40    (526935.67, 4232659.0]  \n",
       "7     (526935.67, 4232659.0]  \n",
       "25    (526935.67, 4232659.0]  \n",
       "38    (526935.67, 4232659.0]  \n",
       "28    (526935.67, 4232659.0]  \n",
       "18    (526935.67, 4232659.0]  \n",
       "10    (526935.67, 4232659.0]  \n",
       "11    (526935.67, 4232659.0]  \n",
       "26    (526935.67, 4232659.0]  \n",
       "47    (526935.67, 4232659.0]  \n",
       "30    (526935.67, 4232659.0]  \n",
       "27    (526935.67, 4232659.0]  \n",
       "43    (526935.67, 4232659.0]  \n",
       "15    (526935.67, 4232659.0]  \n",
       "3     (526935.67, 4232659.0]  \n",
       "23    (526935.67, 4232659.0]  \n",
       "14    (526935.67, 4232659.0]  \n",
       "6     (526935.67, 4232659.0]  \n",
       "35    (526935.67, 4232659.0]  \n",
       "36    (526935.67, 4232659.0]  \n",
       "16    (4232659.0, 7901692.0]  \n",
       "17    (4232659.0, 7901692.0]  \n",
       "39    (4232659.0, 7901692.0]  \n",
       "0     (4232659.0, 7901692.0]  \n",
       "5     (4232659.0, 7901692.0]  \n",
       "22    (4232659.0, 7901692.0]  \n",
       "48    (4232659.0, 7901692.0]  \n",
       "19    (4232659.0, 7901692.0]  \n",
       "24    (4232659.0, 7901692.0]  \n",
       "41    (4232659.0, 7901692.0]  \n",
       "2     (4232659.0, 7901692.0]  \n",
       "13    (4232659.0, 7901692.0]  \n",
       "20    (4232659.0, 7901692.0]  \n",
       "46    (4232659.0, 7901692.0]  \n",
       "45   (7901692.0, 11570725.0]  \n",
       "29   (7901692.0, 11570725.0]  \n",
       "32   (7901692.0, 11570725.0]  \n",
       "9    (7901692.0, 11570725.0]  \n",
       "21   (7901692.0, 11570725.0]  \n",
       "34   (7901692.0, 11570725.0]  \n",
       "37  (11570725.0, 15239758.0]  \n",
       "12  (11570725.0, 15239758.0]  \n",
       "8   (15239758.0, 18908791.0]  \n",
       "31  (18908791.0, 22577824.0]  \n",
       "42  (22577824.0, 26246857.0]  \n",
       "4   (33584923.0, 37253956.0]  "
      ]
     },
     "execution_count": 27,
     "metadata": {},
     "output_type": "execute_result"
    }
   ],
   "source": [
    "# 여기서 살펴보는 이... df의 모습...\n",
    "df"
   ]
  },
  {
   "cell_type": "markdown",
   "metadata": {},
   "source": [
    "히스토그램은 다음과 같은 정보들을 담고 있다.\n",
    "\n",
    "- 그래프에 빈 구간들이 있을 수 있다.\n",
    "- 구간은 동일한 크기를 갖는다.\n",
    "- 구간의 수(혹은 구간의 크기)는 사용자가 결정할 수 있다.\n",
    "- 빈 구간이 있지 않은 이상 막대 사이는 공간 없이 서로 붙어있다."
   ]
  },
  {
   "cell_type": "markdown",
   "metadata": {},
   "source": [
    "### seaborn 의 displot 으로 히스토그램 그리기"
   ]
  },
  {
   "cell_type": "code",
   "execution_count": 28,
   "metadata": {},
   "outputs": [
    {
     "data": {
      "text/plain": [
       "<seaborn.axisgrid.FacetGrid at 0x7f88dc272070>"
      ]
     },
     "execution_count": 28,
     "metadata": {},
     "output_type": "execute_result"
    },
    {
     "data": {
      "image/png": "[encoded data removed]",
      "text/plain": [
       "<Figure size 360x360 with 1 Axes>"
      ]
     },
     "metadata": {
      "needs_background": "light"
     },
     "output_type": "display_data"
    }
   ],
   "source": [
    "import seaborn as sns\n",
    "\n",
    "sns.displot(df['Population'], bins = 10, color = 'y')"
   ]
  },
  {
   "cell_type": "markdown",
   "metadata": {},
   "source": [
    "## 밀도 추정\n",
    "\n",
    "히스토그램과 관련된 desity plot을 알아보자.\n",
    "\n",
    "밀도 그림은 데이터의 분포를 연속된 선으로 보여준다. 부드러운 히스토그램으로, kernel density estimation을 통해 데이터로 부터 직접 계산한다.\n",
    "\n",
    "히스토그램과 가장 큰 차이는 바로 y축 값의 단위이다. 밀도 그림에서는 개수가 아닌 비율(rate)을 표시한다. \n",
    "\n",
    "밀도 곡선 아래의 총 면적은 1이고, 구간의 개수 대신 x축의 두 점 사이의 곡선 아래 면적을 계산하며, 이는 두 점 사이에 있는 분포의 비율에 해당한다.\n",
    "\n",
    "\n",
    "### 주별 살인율 밀도 구하기\n",
    "\n",
    ".plot.hist() 를 이용하는데, density를 True로 주면 밀도추정곡선이 함께 표시된다. 히스토그램에 겹쳐지게 밀도추정 결과를 표시해본다.\n",
    "\n",
    "##### xlim은 그래프 내의 x 값 표시 limitation, bins는 1~12의 개수로 구간을 나눈다는 의미이다."
   ]
  },
  {
   "cell_type": "code",
   "execution_count": 29,
   "metadata": {},
   "outputs": [
    {
     "data": {
      "text/plain": [
       "Text(0.5, 0, 'Murder Rate (per 100,000)')"
      ]
     },
     "execution_count": 29,
     "metadata": {},
     "output_type": "execute_result"
    },
    {
     "data": {
      "image/png": "[encoded data removed]",
      "text/plain": [
       "<Figure size 432x288 with 1 Axes>"
      ]
     },
     "metadata": {
      "needs_background": "light"
     },
     "output_type": "display_data"
    }
   ],
   "source": [
    "density_plot = state['Murder.Rate'].plot.hist(density = True, xlim = [0,12], bins = range(1,12))\n",
    "state['Murder.Rate'].plot.density(ax = density_plot)\n",
    "density_plot.set_xlabel('Murder Rate (per 100,000)')"
   ]
  },
  {
   "cell_type": "markdown",
   "metadata": {},
   "source": [
    "### seaborn 의 histplot 으로 밀도추정곡선이 포함된 히스토그램 그리기"
   ]
  },
  {
   "cell_type": "code",
   "execution_count": 31,
   "metadata": {},
   "outputs": [
    {
     "data": {
      "text/plain": [
       "<AxesSubplot:xlabel='Murder.Rate', ylabel='Count'>"
      ]
     },
     "execution_count": 31,
     "metadata": {},
     "output_type": "execute_result"
    },
    {
     "data": {
      "image/png": "[encoded data removed]",
      "text/plain": [
       "<Figure size 432x288 with 1 Axes>"
      ]
     },
     "metadata": {
      "needs_background": "light"
     },
     "output_type": "display_data"
    }
   ],
   "source": [
    "import seaborn as sns\n",
    "\n",
    "sns.histplot(state['Murder.Rate'], bins = 12, color = 'y', kde = True)"
   ]
  },
  {
   "cell_type": "markdown",
   "metadata": {},
   "source": [
    "---\n",
    "\n",
    "> 도수 히스토그램은 y축에 횟수를, x축에 변수 값들을 표시하고 한눈에 데이터의 분포를 볼 수 있다.\n",
    "\n",
    "> 도수분포표는 히스토그램에 보이는 횟수를 표로 나타낸 것이며,\n",
    "\n",
    "> 박스플롯에서 박스플롯 위와 아래의 부분은 각각 75%, 25% 백분위수를 말하며, 주로 분포들을 서로 비교하기 위해 사용된다.\n",
    "\n",
    "> 덴시티 플롯은 히스토그램의 부드러운 곡선 형태로, 개수가 아닌 비율을 보여준다. 추정 방법이 다양하다.\n"
   ]
  }
 ],
 "metadata": {
  "kernelspec": {
   "display_name": "Python 3 (ipykernel)",
   "language": "python",
   "name": "python3"
  },
  "language_info": {
   "codemirror_mode": {
    "name": "ipython",
    "version": 3
   },
   "file_extension": ".py",
   "mimetype": "text/x-python",
   "name": "python",
   "nbconvert_exporter": "python",
   "pygments_lexer": "ipython3",
   "version": "3.8.5"
  },
  "toc": {
   "base_numbering": 1,
   "nav_menu": {},
   "number_sections": true,
   "sideBar": true,
   "skip_h1_title": false,
   "title_cell": "Table of Contents",
   "title_sidebar": "Contents",
   "toc_cell": false,
   "toc_position": {},
   "toc_section_display": true,
   "toc_window_display": false
  }
 },
 "nbformat": 4,
 "nbformat_minor": 2
}
